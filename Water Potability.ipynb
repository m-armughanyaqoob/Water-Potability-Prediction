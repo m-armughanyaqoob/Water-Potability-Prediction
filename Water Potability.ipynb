{
 "cells": [
  {
   "cell_type": "markdown",
   "metadata": {},
   "source": [
    "# Predicting the Potability of Water Samples\n",
    "\n",
    "Water plays a key role to every living being in life. Water plays a key role in major bodily functions from the flow of blood in our bodies to maintaining body temperature. Water is also used in several industries such as in food and medicine. Water also provides habitats for several species of animals as both a supply of drinking water as well as a place to live in.\n",
    "\n",
    "Hence, it is imperative that the water we have at hand is clean and safe to consume, which in today's day and age is not as common as we would think it to be. This project takes samples from several sources of water and focuses on predicting whether a given sample of water is potable or not based on several factors given to us."
   ]
  },
  {
   "cell_type": "code",
   "execution_count": 1,
   "metadata": {
    "vscode": {
     "languageId": "r"
    }
   },
   "outputs": [
    {
     "name": "stderr",
     "output_type": "stream",
     "text": [
      "Warning message:\n",
      "\"package 'ggplot2' was built under R version 4.3.3\"\n",
      "Warning message:\n",
      "\"package 'mice' was built under R version 4.3.3\"\n"
     ]
    },
    {
     "name": "stderr",
     "output_type": "stream",
     "text": [
      "Warning message in check_dep_version():\n",
      "\"ABI version mismatch: \n",
      "lme4 was built with Matrix ABI version 1\n",
      "Current Matrix ABI version is 0\n",
      "Please re-install lme4 from source or restore original 'Matrix' package\"\n",
      "\n",
      "Attaching package: 'mice'\n",
      "\n",
      "\n",
      "The following object is masked from 'package:stats':\n",
      "\n",
      "    filter\n",
      "\n",
      "\n",
      "The following objects are masked from 'package:base':\n",
      "\n",
      "    cbind, rbind\n",
      "\n",
      "\n",
      "Warning message:\n",
      "\"package 'missForest' was built under R version 4.3.3\"\n",
      "Warning message:\n",
      "\"package 'randomForest' was built under R version 4.3.3\"\n",
      "randomForest 4.7-1.1\n",
      "\n",
      "Type rfNews() to see new features/changes/bug fixes.\n",
      "\n",
      "\n",
      "Attaching package: 'randomForest'\n",
      "\n",
      "\n",
      "The following object is masked from 'package:ggplot2':\n",
      "\n",
      "    margin\n",
      "\n",
      "\n",
      "Warning message:\n",
      "\"package 'corrplot' was built under R version 4.3.3\"\n",
      "corrplot 0.92 loaded\n",
      "\n",
      "Warning message:\n",
      "\"package 'caret' was built under R version 4.3.3\"\n",
      "Loading required package: lattice\n",
      "\n",
      "Warning message:\n",
      "\"package 'rpart' was built under R version 4.3.3\"\n",
      "Warning message:\n",
      "\"package 'rpart.plot' was built under R version 4.3.3\"\n",
      "Warning message:\n",
      "\"package 'pROC' was built under R version 4.3.3\"\n",
      "Type 'citation(\"pROC\")' for a citation.\n",
      "\n",
      "\n",
      "Attaching package: 'pROC'\n",
      "\n",
      "\n",
      "The following objects are masked from 'package:stats':\n",
      "\n",
      "    cov, smooth, var\n",
      "\n",
      "\n",
      "Warning message:\n",
      "\"package 'ROCR' was built under R version 4.3.3\"\n"
     ]
    }
   ],
   "source": [
    "library(ggplot2)\n",
    "library(mice)\n",
    "library(missForest)\n",
    "library(randomForest)\n",
    "library(corrplot)\n",
    "library(caret)\n",
    "library(moments)\n",
    "library(rpart)\n",
    "library(rpart.plot)\n",
    "library(pROC)\n",
    "library(ROCR)"
   ]
  },
  {
   "cell_type": "code",
   "execution_count": 2,
   "metadata": {
    "vscode": {
     "languageId": "r"
    }
   },
   "outputs": [
    {
     "data": {
      "text/html": [
       "<table class=\"dataframe\">\n",
       "<caption>A data.frame: 6 × 10</caption>\n",
       "<thead>\n",
       "\t<tr><th></th><th scope=col>ph</th><th scope=col>Hardness</th><th scope=col>Solids</th><th scope=col>Chloramines</th><th scope=col>Sulfate</th><th scope=col>Conductivity</th><th scope=col>Organic_carbon</th><th scope=col>Trihalomethanes</th><th scope=col>Turbidity</th><th scope=col>Potability</th></tr>\n",
       "\t<tr><th></th><th scope=col>&lt;dbl&gt;</th><th scope=col>&lt;dbl&gt;</th><th scope=col>&lt;dbl&gt;</th><th scope=col>&lt;dbl&gt;</th><th scope=col>&lt;dbl&gt;</th><th scope=col>&lt;dbl&gt;</th><th scope=col>&lt;dbl&gt;</th><th scope=col>&lt;dbl&gt;</th><th scope=col>&lt;dbl&gt;</th><th scope=col>&lt;int&gt;</th></tr>\n",
       "</thead>\n",
       "<tbody>\n",
       "\t<tr><th scope=row>1</th><td>      NA</td><td>204.8905</td><td>20791.32</td><td>7.300212</td><td>368.5164</td><td>564.3087</td><td>10.379783</td><td> 86.99097</td><td>2.963135</td><td>0</td></tr>\n",
       "\t<tr><th scope=row>2</th><td>3.716080</td><td>129.4229</td><td>18630.06</td><td>6.635246</td><td>      NA</td><td>592.8854</td><td>15.180013</td><td> 56.32908</td><td>4.500656</td><td>0</td></tr>\n",
       "\t<tr><th scope=row>3</th><td>8.099124</td><td>224.2363</td><td>19909.54</td><td>9.275884</td><td>      NA</td><td>418.6062</td><td>16.868637</td><td> 66.42009</td><td>3.055934</td><td>0</td></tr>\n",
       "\t<tr><th scope=row>4</th><td>8.316766</td><td>214.3734</td><td>22018.42</td><td>8.059332</td><td>356.8861</td><td>363.2665</td><td>18.436524</td><td>100.34167</td><td>4.628771</td><td>0</td></tr>\n",
       "\t<tr><th scope=row>5</th><td>9.092223</td><td>181.1015</td><td>17978.99</td><td>6.546600</td><td>310.1357</td><td>398.4108</td><td>11.558279</td><td> 31.99799</td><td>4.075075</td><td>0</td></tr>\n",
       "\t<tr><th scope=row>6</th><td>5.584087</td><td>188.3133</td><td>28748.69</td><td>7.544869</td><td>326.6784</td><td>280.4679</td><td> 8.399735</td><td> 54.91786</td><td>2.559708</td><td>0</td></tr>\n",
       "</tbody>\n",
       "</table>\n"
      ],
      "text/latex": [
       "A data.frame: 6 × 10\n",
       "\\begin{tabular}{r|llllllllll}\n",
       "  & ph & Hardness & Solids & Chloramines & Sulfate & Conductivity & Organic\\_carbon & Trihalomethanes & Turbidity & Potability\\\\\n",
       "  & <dbl> & <dbl> & <dbl> & <dbl> & <dbl> & <dbl> & <dbl> & <dbl> & <dbl> & <int>\\\\\n",
       "\\hline\n",
       "\t1 &       NA & 204.8905 & 20791.32 & 7.300212 & 368.5164 & 564.3087 & 10.379783 &  86.99097 & 2.963135 & 0\\\\\n",
       "\t2 & 3.716080 & 129.4229 & 18630.06 & 6.635246 &       NA & 592.8854 & 15.180013 &  56.32908 & 4.500656 & 0\\\\\n",
       "\t3 & 8.099124 & 224.2363 & 19909.54 & 9.275884 &       NA & 418.6062 & 16.868637 &  66.42009 & 3.055934 & 0\\\\\n",
       "\t4 & 8.316766 & 214.3734 & 22018.42 & 8.059332 & 356.8861 & 363.2665 & 18.436524 & 100.34167 & 4.628771 & 0\\\\\n",
       "\t5 & 9.092223 & 181.1015 & 17978.99 & 6.546600 & 310.1357 & 398.4108 & 11.558279 &  31.99799 & 4.075075 & 0\\\\\n",
       "\t6 & 5.584087 & 188.3133 & 28748.69 & 7.544869 & 326.6784 & 280.4679 &  8.399735 &  54.91786 & 2.559708 & 0\\\\\n",
       "\\end{tabular}\n"
      ],
      "text/markdown": [
       "\n",
       "A data.frame: 6 × 10\n",
       "\n",
       "| <!--/--> | ph &lt;dbl&gt; | Hardness &lt;dbl&gt; | Solids &lt;dbl&gt; | Chloramines &lt;dbl&gt; | Sulfate &lt;dbl&gt; | Conductivity &lt;dbl&gt; | Organic_carbon &lt;dbl&gt; | Trihalomethanes &lt;dbl&gt; | Turbidity &lt;dbl&gt; | Potability &lt;int&gt; |\n",
       "|---|---|---|---|---|---|---|---|---|---|---|\n",
       "| 1 |       NA | 204.8905 | 20791.32 | 7.300212 | 368.5164 | 564.3087 | 10.379783 |  86.99097 | 2.963135 | 0 |\n",
       "| 2 | 3.716080 | 129.4229 | 18630.06 | 6.635246 |       NA | 592.8854 | 15.180013 |  56.32908 | 4.500656 | 0 |\n",
       "| 3 | 8.099124 | 224.2363 | 19909.54 | 9.275884 |       NA | 418.6062 | 16.868637 |  66.42009 | 3.055934 | 0 |\n",
       "| 4 | 8.316766 | 214.3734 | 22018.42 | 8.059332 | 356.8861 | 363.2665 | 18.436524 | 100.34167 | 4.628771 | 0 |\n",
       "| 5 | 9.092223 | 181.1015 | 17978.99 | 6.546600 | 310.1357 | 398.4108 | 11.558279 |  31.99799 | 4.075075 | 0 |\n",
       "| 6 | 5.584087 | 188.3133 | 28748.69 | 7.544869 | 326.6784 | 280.4679 |  8.399735 |  54.91786 | 2.559708 | 0 |\n",
       "\n"
      ],
      "text/plain": [
       "  ph       Hardness Solids   Chloramines Sulfate  Conductivity Organic_carbon\n",
       "1       NA 204.8905 20791.32 7.300212    368.5164 564.3087     10.379783     \n",
       "2 3.716080 129.4229 18630.06 6.635246          NA 592.8854     15.180013     \n",
       "3 8.099124 224.2363 19909.54 9.275884          NA 418.6062     16.868637     \n",
       "4 8.316766 214.3734 22018.42 8.059332    356.8861 363.2665     18.436524     \n",
       "5 9.092223 181.1015 17978.99 6.546600    310.1357 398.4108     11.558279     \n",
       "6 5.584087 188.3133 28748.69 7.544869    326.6784 280.4679      8.399735     \n",
       "  Trihalomethanes Turbidity Potability\n",
       "1  86.99097       2.963135  0         \n",
       "2  56.32908       4.500656  0         \n",
       "3  66.42009       3.055934  0         \n",
       "4 100.34167       4.628771  0         \n",
       "5  31.99799       4.075075  0         \n",
       "6  54.91786       2.559708  0         "
      ]
     },
     "metadata": {},
     "output_type": "display_data"
    },
    {
     "data": {
      "text/plain": [
       "       ph            Hardness          Solids         Chloramines    \n",
       " Min.   : 0.000   Min.   : 47.43   Min.   :  320.9   Min.   : 0.352  \n",
       " 1st Qu.: 6.093   1st Qu.:176.85   1st Qu.:15666.7   1st Qu.: 6.127  \n",
       " Median : 7.037   Median :196.97   Median :20927.8   Median : 7.130  \n",
       " Mean   : 7.081   Mean   :196.37   Mean   :22014.1   Mean   : 7.122  \n",
       " 3rd Qu.: 8.062   3rd Qu.:216.67   3rd Qu.:27332.8   3rd Qu.: 8.115  \n",
       " Max.   :14.000   Max.   :323.12   Max.   :61227.2   Max.   :13.127  \n",
       " NA's   :491                                                         \n",
       "    Sulfate       Conductivity   Organic_carbon  Trihalomethanes  \n",
       " Min.   :129.0   Min.   :181.5   Min.   : 2.20   Min.   :  0.738  \n",
       " 1st Qu.:307.7   1st Qu.:365.7   1st Qu.:12.07   1st Qu.: 55.845  \n",
       " Median :333.1   Median :421.9   Median :14.22   Median : 66.622  \n",
       " Mean   :333.8   Mean   :426.2   Mean   :14.28   Mean   : 66.396  \n",
       " 3rd Qu.:360.0   3rd Qu.:481.8   3rd Qu.:16.56   3rd Qu.: 77.337  \n",
       " Max.   :481.0   Max.   :753.3   Max.   :28.30   Max.   :124.000  \n",
       " NA's   :781                                     NA's   :162      \n",
       "   Turbidity       Potability    \n",
       " Min.   :1.450   Min.   :0.0000  \n",
       " 1st Qu.:3.440   1st Qu.:0.0000  \n",
       " Median :3.955   Median :0.0000  \n",
       " Mean   :3.967   Mean   :0.3901  \n",
       " 3rd Qu.:4.500   3rd Qu.:1.0000  \n",
       " Max.   :6.739   Max.   :1.0000  \n",
       "                                 "
      ]
     },
     "metadata": {},
     "output_type": "display_data"
    },
    {
     "data": {
      "text/html": [
       "3276"
      ],
      "text/latex": [
       "3276"
      ],
      "text/markdown": [
       "3276"
      ],
      "text/plain": [
       "[1] 3276"
      ]
     },
     "metadata": {},
     "output_type": "display_data"
    },
    {
     "data": {
      "text/html": [
       "<style>\n",
       ".list-inline {list-style: none; margin:0; padding: 0}\n",
       ".list-inline>li {display: inline-block}\n",
       ".list-inline>li:not(:last-child)::after {content: \"\\00b7\"; padding: 0 .5ex}\n",
       "</style>\n",
       "<ol class=list-inline><li>3276</li><li>10</li></ol>\n"
      ],
      "text/latex": [
       "\\begin{enumerate*}\n",
       "\\item 3276\n",
       "\\item 10\n",
       "\\end{enumerate*}\n"
      ],
      "text/markdown": [
       "1. 3276\n",
       "2. 10\n",
       "\n",
       "\n"
      ],
      "text/plain": [
       "[1] 3276   10"
      ]
     },
     "metadata": {},
     "output_type": "display_data"
    }
   ],
   "source": [
    "\n",
    "water.quality <- read.csv('C:/Users/ashis/Downloads/water_potability.csv')\n",
    "head(water.quality)\n",
    "summary(water.quality)\n",
    "nrow(water.quality)\n",
    "dim(water.quality)"
   ]
  },
  {
   "cell_type": "code",
   "execution_count": 3,
   "metadata": {
    "vscode": {
     "languageId": "r"
    }
   },
   "outputs": [
    {
     "data": {
      "text/html": [
       "1265"
      ],
      "text/latex": [
       "1265"
      ],
      "text/markdown": [
       "1265"
      ],
      "text/plain": [
       "[1] 1265"
      ]
     },
     "metadata": {},
     "output_type": "display_data"
    },
    {
     "data": {
      "text/html": [
       "491"
      ],
      "text/latex": [
       "491"
      ],
      "text/markdown": [
       "491"
      ],
      "text/plain": [
       "[1] 491"
      ]
     },
     "metadata": {},
     "output_type": "display_data"
    },
    {
     "data": {
      "text/html": [
       "0"
      ],
      "text/latex": [
       "0"
      ],
      "text/markdown": [
       "0"
      ],
      "text/plain": [
       "[1] 0"
      ]
     },
     "metadata": {},
     "output_type": "display_data"
    },
    {
     "data": {
      "text/html": [
       "0"
      ],
      "text/latex": [
       "0"
      ],
      "text/markdown": [
       "0"
      ],
      "text/plain": [
       "[1] 0"
      ]
     },
     "metadata": {},
     "output_type": "display_data"
    },
    {
     "data": {
      "text/html": [
       "0"
      ],
      "text/latex": [
       "0"
      ],
      "text/markdown": [
       "0"
      ],
      "text/plain": [
       "[1] 0"
      ]
     },
     "metadata": {},
     "output_type": "display_data"
    },
    {
     "data": {
      "text/html": [
       "781"
      ],
      "text/latex": [
       "781"
      ],
      "text/markdown": [
       "781"
      ],
      "text/plain": [
       "[1] 781"
      ]
     },
     "metadata": {},
     "output_type": "display_data"
    },
    {
     "data": {
      "text/html": [
       "0"
      ],
      "text/latex": [
       "0"
      ],
      "text/markdown": [
       "0"
      ],
      "text/plain": [
       "[1] 0"
      ]
     },
     "metadata": {},
     "output_type": "display_data"
    },
    {
     "data": {
      "text/html": [
       "0"
      ],
      "text/latex": [
       "0"
      ],
      "text/markdown": [
       "0"
      ],
      "text/plain": [
       "[1] 0"
      ]
     },
     "metadata": {},
     "output_type": "display_data"
    },
    {
     "data": {
      "text/html": [
       "162"
      ],
      "text/latex": [
       "162"
      ],
      "text/markdown": [
       "162"
      ],
      "text/plain": [
       "[1] 162"
      ]
     },
     "metadata": {},
     "output_type": "display_data"
    },
    {
     "data": {
      "text/html": [
       "0"
      ],
      "text/latex": [
       "0"
      ],
      "text/markdown": [
       "0"
      ],
      "text/plain": [
       "[1] 0"
      ]
     },
     "metadata": {},
     "output_type": "display_data"
    },
    {
     "data": {
      "text/html": [
       "0"
      ],
      "text/latex": [
       "0"
      ],
      "text/markdown": [
       "0"
      ],
      "text/plain": [
       "[1] 0"
      ]
     },
     "metadata": {},
     "output_type": "display_data"
    }
   ],
   "source": [
    "sum(apply(water.quality, 1, anyNA))\n",
    "sum(is.na(water.quality$ph))\n",
    "sum(is.na(water.quality$Hardness))\n",
    "sum(is.na(water.quality$Solids))\n",
    "sum(is.na(water.quality$Chloramines))\n",
    "sum(is.na(water.quality$Sulfate))\n",
    "sum(is.na(water.quality$Conductivity))\n",
    "sum(is.na(water.quality$Organic_carbon))\n",
    "sum(is.na(water.quality$Trihalomethanes))\n",
    "sum(is.na(water.quality$Turbidity))\n",
    "sum(is.na(water.quality$Potability))"
   ]
  },
  {
   "cell_type": "markdown",
   "metadata": {},
   "source": [
    "Our dataset has missing values in the pH, Sulfate and trihalomethanes columns. This will have to be either dropped or imputed"
   ]
  },
  {
   "cell_type": "code",
   "execution_count": 4,
   "metadata": {
    "vscode": {
     "languageId": "r"
    }
   },
   "outputs": [
    {
     "data": {
      "image/png": "[encoded data removed]",
      "text/plain": [
       "plot without title"
      ]
     },
     "metadata": {
      "image/png": {
       "height": 420,
       "width": 420
      }
     },
     "output_type": "display_data"
    }
   ],
   "source": [
    "pairs(water.quality)\n"
   ]
  },
  {
   "cell_type": "markdown",
   "metadata": {},
   "source": [
    "Since the pH, Sulfate and Trihalomethanes Columns have null values, we have to impute them. For this we make use of the mice package to both visualize and impute the missing data."
   ]
  },
  {
   "cell_type": "code",
   "execution_count": 5,
   "metadata": {
    "vscode": {
     "languageId": "r"
    }
   },
   "outputs": [
    {
     "data": {
      "text/html": [
       "<table class=\"dataframe\">\n",
       "<caption>A matrix: 9 × 11 of type dbl</caption>\n",
       "<thead>\n",
       "\t<tr><th></th><th scope=col>Hardness</th><th scope=col>Solids</th><th scope=col>Chloramines</th><th scope=col>Conductivity</th><th scope=col>Organic_carbon</th><th scope=col>Turbidity</th><th scope=col>Potability</th><th scope=col>Trihalomethanes</th><th scope=col>ph</th><th scope=col>Sulfate</th><th scope=col></th></tr>\n",
       "</thead>\n",
       "<tbody>\n",
       "\t<tr><th scope=row>2011</th><td>1</td><td>1</td><td>1</td><td>1</td><td>1</td><td>1</td><td>1</td><td>  1</td><td>  1</td><td>  1</td><td>   0</td></tr>\n",
       "\t<tr><th scope=row>638</th><td>1</td><td>1</td><td>1</td><td>1</td><td>1</td><td>1</td><td>1</td><td>  1</td><td>  1</td><td>  0</td><td>   1</td></tr>\n",
       "\t<tr><th scope=row>362</th><td>1</td><td>1</td><td>1</td><td>1</td><td>1</td><td>1</td><td>1</td><td>  1</td><td>  0</td><td>  1</td><td>   1</td></tr>\n",
       "\t<tr><th scope=row>103</th><td>1</td><td>1</td><td>1</td><td>1</td><td>1</td><td>1</td><td>1</td><td>  1</td><td>  0</td><td>  0</td><td>   2</td></tr>\n",
       "\t<tr><th scope=row>105</th><td>1</td><td>1</td><td>1</td><td>1</td><td>1</td><td>1</td><td>1</td><td>  0</td><td>  1</td><td>  1</td><td>   1</td></tr>\n",
       "\t<tr><th scope=row>31</th><td>1</td><td>1</td><td>1</td><td>1</td><td>1</td><td>1</td><td>1</td><td>  0</td><td>  1</td><td>  0</td><td>   2</td></tr>\n",
       "\t<tr><th scope=row>17</th><td>1</td><td>1</td><td>1</td><td>1</td><td>1</td><td>1</td><td>1</td><td>  0</td><td>  0</td><td>  1</td><td>   2</td></tr>\n",
       "\t<tr><th scope=row>9</th><td>1</td><td>1</td><td>1</td><td>1</td><td>1</td><td>1</td><td>1</td><td>  0</td><td>  0</td><td>  0</td><td>   3</td></tr>\n",
       "\t<tr><th scope=row></th><td>0</td><td>0</td><td>0</td><td>0</td><td>0</td><td>0</td><td>0</td><td>162</td><td>491</td><td>781</td><td>1434</td></tr>\n",
       "</tbody>\n",
       "</table>\n"
      ],
      "text/latex": [
       "A matrix: 9 × 11 of type dbl\n",
       "\\begin{tabular}{r|lllllllllll}\n",
       "  & Hardness & Solids & Chloramines & Conductivity & Organic\\_carbon & Turbidity & Potability & Trihalomethanes & ph & Sulfate & \\\\\n",
       "\\hline\n",
       "\t2011 & 1 & 1 & 1 & 1 & 1 & 1 & 1 &   1 &   1 &   1 &    0\\\\\n",
       "\t638 & 1 & 1 & 1 & 1 & 1 & 1 & 1 &   1 &   1 &   0 &    1\\\\\n",
       "\t362 & 1 & 1 & 1 & 1 & 1 & 1 & 1 &   1 &   0 &   1 &    1\\\\\n",
       "\t103 & 1 & 1 & 1 & 1 & 1 & 1 & 1 &   1 &   0 &   0 &    2\\\\\n",
       "\t105 & 1 & 1 & 1 & 1 & 1 & 1 & 1 &   0 &   1 &   1 &    1\\\\\n",
       "\t31 & 1 & 1 & 1 & 1 & 1 & 1 & 1 &   0 &   1 &   0 &    2\\\\\n",
       "\t17 & 1 & 1 & 1 & 1 & 1 & 1 & 1 &   0 &   0 &   1 &    2\\\\\n",
       "\t9 & 1 & 1 & 1 & 1 & 1 & 1 & 1 &   0 &   0 &   0 &    3\\\\\n",
       "\t & 0 & 0 & 0 & 0 & 0 & 0 & 0 & 162 & 491 & 781 & 1434\\\\\n",
       "\\end{tabular}\n"
      ],
      "text/markdown": [
       "\n",
       "A matrix: 9 × 11 of type dbl\n",
       "\n",
       "| <!--/--> | Hardness | Solids | Chloramines | Conductivity | Organic_carbon | Turbidity | Potability | Trihalomethanes | ph | Sulfate | <!----> |\n",
       "|---|---|---|---|---|---|---|---|---|---|---|---|\n",
       "| 2011 | 1 | 1 | 1 | 1 | 1 | 1 | 1 |   1 |   1 |   1 |    0 |\n",
       "| 638 | 1 | 1 | 1 | 1 | 1 | 1 | 1 |   1 |   1 |   0 |    1 |\n",
       "| 362 | 1 | 1 | 1 | 1 | 1 | 1 | 1 |   1 |   0 |   1 |    1 |\n",
       "| 103 | 1 | 1 | 1 | 1 | 1 | 1 | 1 |   1 |   0 |   0 |    2 |\n",
       "| 105 | 1 | 1 | 1 | 1 | 1 | 1 | 1 |   0 |   1 |   1 |    1 |\n",
       "| 31 | 1 | 1 | 1 | 1 | 1 | 1 | 1 |   0 |   1 |   0 |    2 |\n",
       "| 17 | 1 | 1 | 1 | 1 | 1 | 1 | 1 |   0 |   0 |   1 |    2 |\n",
       "| 9 | 1 | 1 | 1 | 1 | 1 | 1 | 1 |   0 |   0 |   0 |    3 |\n",
       "| <!----> | 0 | 0 | 0 | 0 | 0 | 0 | 0 | 162 | 491 | 781 | 1434 |\n",
       "\n"
      ],
      "text/plain": [
       "     Hardness Solids Chloramines Conductivity Organic_carbon Turbidity\n",
       "2011 1        1      1           1            1              1        \n",
       "638  1        1      1           1            1              1        \n",
       "362  1        1      1           1            1              1        \n",
       "103  1        1      1           1            1              1        \n",
       "105  1        1      1           1            1              1        \n",
       "31   1        1      1           1            1              1        \n",
       "17   1        1      1           1            1              1        \n",
       "9    1        1      1           1            1              1        \n",
       "     0        0      0           0            0              0        \n",
       "     Potability Trihalomethanes ph  Sulfate     \n",
       "2011 1            1               1   1        0\n",
       "638  1            1               1   0        1\n",
       "362  1            1               0   1        1\n",
       "103  1            1               0   0        2\n",
       "105  1            0               1   1        1\n",
       "31   1            0               1   0        2\n",
       "17   1            0               0   1        2\n",
       "9    1            0               0   0        3\n",
       "     0          162             491 781     1434"
      ]
     },
     "metadata": {},
     "output_type": "display_data"
    },
    {
     "data": {
      "image/png": "[encoded data removed]",
      "text/plain": [
       "plot without title"
      ]
     },
     "metadata": {
      "image/png": {
       "height": 420,
       "width": 420
      }
     },
     "output_type": "display_data"
    }
   ],
   "source": [
    "# Impute missing data using mice\n",
    "md.pattern(water.quality, rotate.names = TRUE)"
   ]
  },
  {
   "cell_type": "markdown",
   "metadata": {},
   "source": [
    "The above shows us the missing values in our dataset.\n",
    "\n",
    "Blue means no missing value, and red means missing value.\n",
    "\n",
    "The numbers on the left show the number of instances of a particular pattern of missing values occurring in the dataset.\n",
    "\n",
    "The numbers on the right are equal to the number of missing values in each pattern (notice the number of red squares)\n",
    "\n",
    "The numbers at the bottom record the total number of missing values for each variable\n",
    "\n",
    "We use the random forest method to to impute the missing data points"
   ]
  },
  {
   "cell_type": "code",
   "execution_count": 6,
   "metadata": {
    "vscode": {
     "languageId": "r"
    }
   },
   "outputs": [],
   "source": [
    "# Alternative imputing methods (median, pmm, CART and lasso normalization)\n",
    "# water.quality$ph[is.na(water.quality$ph)] <- median(water.quality$ph, na.rm = TRUE)\n",
    "# water.quality$Sulfate[is.na(water.quality$Sulfate)] <- median(water.quality$Sulfate, na.rm = TRUE)\n",
    "# water.quality$Trihalomethanes[is.na(water.quality$Trihalomethanes)] <- median(water.quality$Trihalomethanes, na.rm = TRUE)\n",
    "\n",
    "# water.quality <- complete(mice(water.quality, method=\"pmm\"))\n",
    "# water.quality <- complete(mice(water.quality, method=\"cart\"))\n",
    "# water.quality <- complete(mice(water.quality, method=\"lasso.norm\"))\n",
    "\n",
    "water.quality_original <- water.quality\n",
    "\n",
    "Random.seed <- c(\"Mersenne-Twister\", 530)\n",
    "set.seed(530)\n",
    "imputation_result <- missForest(water.quality, xtrue = water.quality_original)\n",
    "water.quality <- imputation_result$ximp\n"
   ]
  },
  {
   "cell_type": "markdown",
   "metadata": {},
   "source": [
    "This package iteratively applies the random forest model on our dataset taking the missing values as the Y variables.\n",
    "\n",
    "The stopping criterion for this method is: when the value differences in each iteration of the random forest implementation goes up, the second last matrix obtained will be taken into consideration.\n",
    "\n",
    "The **Normalized Root Mean Square Error (NRMSE)** is the error between hte imputed values at the stopping point and is shown below."
   ]
  },
  {
   "cell_type": "code",
   "execution_count": 7,
   "metadata": {
    "vscode": {
     "languageId": "r"
    }
   },
   "outputs": [
    {
     "data": {
      "text/html": [
       "<strong>NRMSE:</strong> 0.00182984204146859"
      ],
      "text/latex": [
       "\\textbf{NRMSE:} 0.00182984204146859"
      ],
      "text/markdown": [
       "**NRMSE:** 0.00182984204146859"
      ],
      "text/plain": [
       "      NRMSE \n",
       "0.001829842 "
      ]
     },
     "metadata": {},
     "output_type": "display_data"
    }
   ],
   "source": [
    "imputation_result$OOBerror"
   ]
  },
  {
   "cell_type": "markdown",
   "metadata": {},
   "source": [
    "Hence, we have a look at the dataset after this process to confirm that all the data has been imputed."
   ]
  },
  {
   "cell_type": "code",
   "execution_count": 8,
   "metadata": {
    "vscode": {
     "languageId": "r"
    }
   },
   "outputs": [
    {
     "name": "stdout",
     "output_type": "stream",
     "text": [
      " /\\     /\\\n",
      "{  `---'  }\n",
      "{  O   O  }\n",
      "==>  V <==  No need for mice. This data set is completely observed.\n",
      " \\  \\|/  /\n",
      "  `-----'\n",
      "\n"
     ]
    },
    {
     "data": {
      "text/html": [
       "<table class=\"dataframe\">\n",
       "<caption>A matrix: 2 × 11 of type dbl</caption>\n",
       "<thead>\n",
       "\t<tr><th></th><th scope=col>ph</th><th scope=col>Hardness</th><th scope=col>Solids</th><th scope=col>Chloramines</th><th scope=col>Sulfate</th><th scope=col>Conductivity</th><th scope=col>Organic_carbon</th><th scope=col>Trihalomethanes</th><th scope=col>Turbidity</th><th scope=col>Potability</th><th scope=col></th></tr>\n",
       "</thead>\n",
       "<tbody>\n",
       "\t<tr><th scope=row>3276</th><td>1</td><td>1</td><td>1</td><td>1</td><td>1</td><td>1</td><td>1</td><td>1</td><td>1</td><td>1</td><td>0</td></tr>\n",
       "\t<tr><th scope=row></th><td>0</td><td>0</td><td>0</td><td>0</td><td>0</td><td>0</td><td>0</td><td>0</td><td>0</td><td>0</td><td>0</td></tr>\n",
       "</tbody>\n",
       "</table>\n"
      ],
      "text/latex": [
       "A matrix: 2 × 11 of type dbl\n",
       "\\begin{tabular}{r|lllllllllll}\n",
       "  & ph & Hardness & Solids & Chloramines & Sulfate & Conductivity & Organic\\_carbon & Trihalomethanes & Turbidity & Potability & \\\\\n",
       "\\hline\n",
       "\t3276 & 1 & 1 & 1 & 1 & 1 & 1 & 1 & 1 & 1 & 1 & 0\\\\\n",
       "\t & 0 & 0 & 0 & 0 & 0 & 0 & 0 & 0 & 0 & 0 & 0\\\\\n",
       "\\end{tabular}\n"
      ],
      "text/markdown": [
       "\n",
       "A matrix: 2 × 11 of type dbl\n",
       "\n",
       "| <!--/--> | ph | Hardness | Solids | Chloramines | Sulfate | Conductivity | Organic_carbon | Trihalomethanes | Turbidity | Potability | <!----> |\n",
       "|---|---|---|---|---|---|---|---|---|---|---|---|\n",
       "| 3276 | 1 | 1 | 1 | 1 | 1 | 1 | 1 | 1 | 1 | 1 | 0 |\n",
       "| <!----> | 0 | 0 | 0 | 0 | 0 | 0 | 0 | 0 | 0 | 0 | 0 |\n",
       "\n"
      ],
      "text/plain": [
       "     ph Hardness Solids Chloramines Sulfate Conductivity Organic_carbon\n",
       "3276 1  1        1      1           1       1            1             \n",
       "     0  0        0      0           0       0            0             \n",
       "     Trihalomethanes Turbidity Potability  \n",
       "3276 1               1         1          0\n",
       "     0               0         0          0"
      ]
     },
     "metadata": {},
     "output_type": "display_data"
    },
    {
     "data": {
      "image/png": "[encoded data removed]",
      "text/plain": [
       "plot without title"
      ]
     },
     "metadata": {
      "image/png": {
       "height": 420,
       "width": 420
      }
     },
     "output_type": "display_data"
    }
   ],
   "source": [
    "md.pattern(water.quality, rotate.names = TRUE)"
   ]
  },
  {
   "cell_type": "markdown",
   "metadata": {},
   "source": [
    "# Exploratory Data Analysis\n",
    "\n",
    "We will first be looking into the description of how our dataset is in terms of potable and not-potable water."
   ]
  },
  {
   "cell_type": "code",
   "execution_count": 9,
   "metadata": {
    "vscode": {
     "languageId": "r"
    }
   },
   "outputs": [
    {
     "name": "stderr",
     "output_type": "stream",
     "text": [
      "Warning message:\n",
      "\"\u001b[1m\u001b[22mThe dot-dot notation (`..count..`) was deprecated in ggplot2 3.4.0.\n",
      "\u001b[36mℹ\u001b[39m Please use `after_stat(count)` instead.\"\n"
     ]
    },
    {
     "data": {
      "image/png": "[encoded data removed]",
      "text/plain": [
       "plot without title"
      ]
     },
     "metadata": {
      "image/png": {
       "height": 420,
       "width": 420
      }
     },
     "output_type": "display_data"
    }
   ],
   "source": [
    "ggplot(water.quality) + geom_bar(aes(x = factor(Potability)), fill='lightblue', color='black', stat='count') +\n",
    "  geom_text(stat='count',aes(x = factor(Potability), label=..count..), vjust=2) +\n",
    "  xlab('Potable') + ylab('Count')"
   ]
  },
  {
   "cell_type": "code",
   "execution_count": 10,
   "metadata": {
    "vscode": {
     "languageId": "r"
    }
   },
   "outputs": [
    {
     "name": "stdout",
     "output_type": "stream",
     "text": [
      "[1] \"Non-Potable\"\n"
     ]
    },
    {
     "data": {
      "text/plain": [
       "       ph            Hardness          Solids         Chloramines    \n",
       " Min.   : 0.000   Min.   : 98.45   Min.   :  320.9   Min.   : 1.684  \n",
       " 1st Qu.: 6.175   1st Qu.:177.82   1st Qu.:15663.1   1st Qu.: 6.156  \n",
       " Median : 7.079   Median :197.12   Median :20809.6   Median : 7.090  \n",
       " Mean   : 7.091   Mean   :196.73   Mean   :21777.5   Mean   : 7.092  \n",
       " 3rd Qu.: 7.985   3rd Qu.:216.12   3rd Qu.:27006.2   3rd Qu.: 8.066  \n",
       " Max.   :14.000   Max.   :304.24   Max.   :61227.2   Max.   :12.653  \n",
       "    Sulfate       Conductivity   Organic_carbon   Trihalomethanes  \n",
       " Min.   :203.4   Min.   :181.5   Min.   : 4.372   Min.   :  0.738  \n",
       " 1st Qu.:317.1   1st Qu.:368.5   1st Qu.:12.101   1st Qu.: 56.442  \n",
       " Median :333.6   Median :422.2   Median :14.294   Median : 66.418  \n",
       " Mean   :334.5   Mean   :426.7   Mean   :14.364   Mean   : 66.318  \n",
       " 3rd Qu.:350.7   3rd Qu.:480.7   3rd Qu.:16.649   3rd Qu.: 76.538  \n",
       " Max.   :460.1   Max.   :753.3   Max.   :28.300   Max.   :120.030  \n",
       "   Turbidity       Potability\n",
       " Min.   :1.450   Min.   :0   \n",
       " 1st Qu.:3.444   1st Qu.:0   \n",
       " Median :3.948   Median :0   \n",
       " Mean   :3.966   Mean   :0   \n",
       " 3rd Qu.:4.496   3rd Qu.:0   \n",
       " Max.   :6.739   Max.   :0   "
      ]
     },
     "metadata": {},
     "output_type": "display_data"
    },
    {
     "name": "stdout",
     "output_type": "stream",
     "text": [
      "[1] \"Potable\"\n"
     ]
    },
    {
     "data": {
      "text/plain": [
       "       ph             Hardness          Solids         Chloramines    \n",
       " Min.   : 0.2275   Min.   : 47.43   Min.   :  728.8   Min.   : 0.352  \n",
       " 1st Qu.: 6.3478   1st Qu.:174.33   1st Qu.:15669.0   1st Qu.: 6.094  \n",
       " Median : 7.0455   Median :196.63   Median :21199.4   Median : 7.215  \n",
       " Mean   : 7.0736   Mean   :195.80   Mean   :22384.0   Mean   : 7.169  \n",
       " 3rd Qu.: 7.7865   3rd Qu.:218.00   3rd Qu.:27973.2   3rd Qu.: 8.199  \n",
       " Max.   :13.1754   Max.   :323.12   Max.   :56488.7   Max.   :13.127  \n",
       "    Sulfate       Conductivity   Organic_carbon  Trihalomethanes  \n",
       " Min.   :129.0   Min.   :201.6   Min.   : 2.20   Min.   :  8.176  \n",
       " 1st Qu.:310.6   1st Qu.:360.9   1st Qu.:12.03   1st Qu.: 56.911  \n",
       " Median :333.3   Median :420.7   Median :14.16   Median : 66.718  \n",
       " Mean   :332.7   Mean   :425.4   Mean   :14.16   Mean   : 66.557  \n",
       " 3rd Qu.:356.4   3rd Qu.:484.2   3rd Qu.:16.36   3rd Qu.: 77.067  \n",
       " Max.   :481.0   Max.   :695.4   Max.   :23.60   Max.   :124.000  \n",
       "   Turbidity       Potability\n",
       " Min.   :1.492   Min.   :1   \n",
       " 1st Qu.:3.431   1st Qu.:1   \n",
       " Median :3.959   Median :1   \n",
       " Mean   :3.968   Mean   :1   \n",
       " 3rd Qu.:4.510   3rd Qu.:1   \n",
       " Max.   :6.494   Max.   :1   "
      ]
     },
     "metadata": {},
     "output_type": "display_data"
    }
   ],
   "source": [
    "print(\"Non-Potable\")\n",
    "summary(subset(water.quality, Potability == 0))\n",
    "print(\"Potable\")\n",
    "summary(subset(water.quality, Potability == 1))"
   ]
  },
  {
   "cell_type": "code",
   "execution_count": 11,
   "metadata": {
    "vscode": {
     "languageId": "r"
    }
   },
   "outputs": [
    {
     "data": {
      "image/png": "[encoded data removed]",
      "text/plain": [
       "Plot with title \"\""
      ]
     },
     "metadata": {
      "image/png": {
       "height": 420,
       "width": 420
      }
     },
     "output_type": "display_data"
    }
   ],
   "source": [
    "correlations <- cor(water.quality)\n",
    "corrplot(correlations, method=\"number\", col=colorRampPalette(c(\"blue\",\"red\"))(20))\n"
   ]
  },
  {
   "cell_type": "markdown",
   "metadata": {},
   "source": [
    "All the features have very weak correlations with one another. Hence they are independent of one another."
   ]
  },
  {
   "cell_type": "code",
   "execution_count": 12,
   "metadata": {
    "vscode": {
     "languageId": "r"
    }
   },
   "outputs": [
    {
     "name": "stderr",
     "output_type": "stream",
     "text": [
      "Warning message:\n",
      "\"\u001b[1m\u001b[22m`aes_string()` was deprecated in ggplot2 3.0.0.\n",
      "\u001b[36mℹ\u001b[39m Please use tidy evaluation idioms with `aes()`.\n",
      "\u001b[36mℹ\u001b[39m See also `vignette(\"ggplot2-in-packages\")` for more information.\"\n"
     ]
    },
    {
     "data": {
      "image/png": "[encoded data removed]",
      "text/plain": [
       "plot without title"
      ]
     },
     "metadata": {
      "image/png": {
       "height": 420,
       "width": 420
      }
     },
     "output_type": "display_data"
    },
    {
     "data": {
      "image/png": "[encoded data removed]",
      "text/plain": [
       "plot without title"
      ]
     },
     "metadata": {
      "image/png": {
       "height": 420,
       "width": 420
      }
     },
     "output_type": "display_data"
    },
    {
     "data": {
      "image/png": "[encoded data removed]",
      "text/plain": [
       "plot without title"
      ]
     },
     "metadata": {
      "image/png": {
       "height": 420,
       "width": 420
      }
     },
     "output_type": "display_data"
    },
    {
     "data": {
      "image/png": "[encoded data removed]",
      "text/plain": [
       "plot without title"
      ]
     },
     "metadata": {
      "image/png": {
       "height": 420,
       "width": 420
      }
     },
     "output_type": "display_data"
    },
    {
     "data": {
      "image/png": "[encoded data removed]",
      "text/plain": [
       "plot without title"
      ]
     },
     "metadata": {
      "image/png": {
       "height": 420,
       "width": 420
      }
     },
     "output_type": "display_data"
    },
    {
     "data": {
      "image/png": "[encoded data removed]",
      "text/plain": [
       "plot without title"
      ]
     },
     "metadata": {
      "image/png": {
       "height": 420,
       "width": 420
      }
     },
     "output_type": "display_data"
    },
    {
     "data": {
      "image/png": "[encoded data removed]",
      "text/plain": [
       "plot without title"
      ]
     },
     "metadata": {
      "image/png": {
       "height": 420,
       "width": 420
      }
     },
     "output_type": "display_data"
    },
    {
     "data": {
      "image/png": "[encoded data removed]",
      "text/plain": [
       "plot without title"
      ]
     },
     "metadata": {
      "image/png": {
       "height": 420,
       "width": 420
      }
     },
     "output_type": "display_data"
    },
    {
     "data": {
      "image/png": "[encoded data removed]",
      "text/plain": [
       "plot without title"
      ]
     },
     "metadata": {
      "image/png": {
       "height": 420,
       "width": 420
      }
     },
     "output_type": "display_data"
    }
   ],
   "source": [
    "features <- c(\"ph\", \"Hardness\", \"Solids\", \"Chloramines\", \"Sulfate\", \"Conductivity\", \"Organic_carbon\", \"Trihalomethanes\", \"Turbidity\")\n",
    "for (feature in features) {\n",
    "  p <- ggplot(water.quality, aes_string(x=feature, fill=\"factor(Potability)\")) + \n",
    "    geom_density(alpha = 0.3) +\n",
    "    labs(title = paste(\"KDE of\", feature, \"based on Potability\"), x = feature) +\n",
    "    scale_fill_discrete(name = \"Potability\", labels = c(\"Not Potable\", \"Potable\"))\n",
    "  print(p)\n",
    "}"
   ]
  },
  {
   "cell_type": "code",
   "execution_count": 13,
   "metadata": {
    "vscode": {
     "languageId": "r"
    }
   },
   "outputs": [
    {
     "name": "stdout",
     "output_type": "stream",
     "text": [
      "             ph        Hardness          Solids     Chloramines         Sulfate \n",
      "    0.020766315    -0.039323689     0.621349818    -0.012092900    -0.045991521 \n",
      "   Conductivity  Organic_carbon Trihalomethanes       Turbidity \n",
      "    0.264369105     0.025520890    -0.087586712    -0.007813063 \n",
      "             ph        Hardness          Solids     Chloramines         Sulfate \n",
      "       4.215267        3.613001        3.440320        3.587170        4.491691 \n",
      "   Conductivity  Organic_carbon Trihalomethanes       Turbidity \n",
      "       2.721499        3.042511        3.394568        2.935464 \n"
     ]
    }
   ],
   "source": [
    "skewness_values <- sapply(water.quality[, 1:9], skewness)\n",
    "print(skewness_values)\n",
    "\n",
    "kurtosis_values <- sapply(water.quality[, 1:9], kurtosis)\n",
    "print(kurtosis_values)"
   ]
  },
  {
   "cell_type": "markdown",
   "metadata": {},
   "source": [
    "Hence from the above values we can see that the features have close to normal distributions.\n",
    "\n",
    "# Building our Models\n",
    "\n",
    "We will now focus on building our classification models to see which one would give us a better result. In this case we will have to take two splits of our dataset:\n",
    "\n",
    "- 50/50\n",
    "- 80/20\n",
    "\n",
    "And compare our methods at each split. We will also make use of 5-fold cross validation whenever it is needed.\n",
    "\n",
    "## Model: Logistic Regression\n",
    "\n",
    "The first method we are choosing is Logistic Regression. Logistic regression is good for dealing with data that has a binary output and works based on a sigmoid function, as it considers the log odds. If we were to try to fit such data with a normal linear regression model, it would produce probability values less than 0 or greater than 1, which would not make sense given that our outputs are fixed binary values.\n",
    "\n",
    "### 50/50 Split"
   ]
  },
  {
   "cell_type": "code",
   "execution_count": 14,
   "metadata": {
    "vscode": {
     "languageId": "r"
    }
   },
   "outputs": [
    {
     "data": {
      "text/plain": [
       "\n",
       "Call:\n",
       "glm(formula = Potability ~ ., family = \"binomial\", data = train_set)\n",
       "\n",
       "Coefficients:\n",
       "                  Estimate Std. Error z value Pr(>|z|)\n",
       "(Intercept)     -4.136e-01  8.853e-01  -0.467    0.640\n",
       "ph               5.887e-03  3.507e-02   0.168    0.867\n",
       "Hardness         3.711e-04  1.581e-03   0.235    0.814\n",
       "Solids           7.326e-06  5.863e-06   1.250    0.211\n",
       "Chloramines      7.128e-04  3.261e-02   0.022    0.983\n",
       "Sulfate         -8.104e-04  1.449e-03  -0.559    0.576\n",
       "Conductivity     5.351e-04  6.375e-04   0.839    0.401\n",
       "Organic_carbon  -1.082e-02  1.573e-02  -0.688    0.492\n",
       "Trihalomethanes -2.351e-03  3.150e-03  -0.746    0.455\n",
       "Turbidity        7.501e-03  6.448e-02   0.116    0.907\n",
       "\n",
       "(Dispersion parameter for binomial family taken to be 1)\n",
       "\n",
       "    Null deviance: 2188.3  on 1637  degrees of freedom\n",
       "Residual deviance: 2184.4  on 1628  degrees of freedom\n",
       "AIC: 2204.4\n",
       "\n",
       "Number of Fisher Scoring iterations: 4\n"
      ]
     },
     "metadata": {},
     "output_type": "display_data"
    }
   ],
   "source": [
    "Random.seed <- c(\"Mersenne-Twister\", 530)\n",
    "set.seed(530)\n",
    "indices <- sample(1:nrow(water.quality), 0.5 * nrow(water.quality), replace = FALSE)\n",
    "train_set <- water.quality[indices, ]\n",
    "test_set <- water.quality[-indices, ]\n",
    "\n",
    "logit.train <- glm(Potability ~ ., data=train_set, family = \"binomial\")\n",
    "summary(logit.train)"
   ]
  },
  {
   "cell_type": "markdown",
   "metadata": {},
   "source": [
    "The above shows the estimated model for a 50/50 train test split, and how it fits the given data.\n",
    "\n",
    "The null deviance, residual deviance, and the Akaike information criterion give us the indications as to how well our model fits the data.\n",
    "\n",
    "**Null Deviance** tells us how well the target is predicted by the intercept term by itself.\n",
    "\n",
    "**Residual Deviance** tells us how well the model fits the data with all independent variables.\n",
    "\n",
    "The deviance residual is -2 * log likelihood, which we find below"
   ]
  },
  {
   "cell_type": "code",
   "execution_count": 15,
   "metadata": {
    "vscode": {
     "languageId": "r"
    }
   },
   "outputs": [
    {
     "data": {
      "text/plain": [
       "'log Lik.' -1092.206 (df=10)"
      ]
     },
     "metadata": {},
     "output_type": "display_data"
    }
   ],
   "source": [
    "logLik(logit.train)"
   ]
  },
  {
   "cell_type": "markdown",
   "metadata": {},
   "source": [
    "These measures can tell us if a model with the predictors do a better job of fitting the data than one with just an intercept (null model). For this we do the chi-square test. If we get a smaller p-value for this test, the model holds a high significance."
   ]
  },
  {
   "cell_type": "code",
   "execution_count": 16,
   "metadata": {
    "vscode": {
     "languageId": "r"
    }
   },
   "outputs": [
    {
     "data": {
      "text/html": [
       "0.920140595025149"
      ],
      "text/latex": [
       "0.920140595025149"
      ],
      "text/markdown": [
       "0.920140595025149"
      ],
      "text/plain": [
       "[1] 0.9201406"
      ]
     },
     "metadata": {},
     "output_type": "display_data"
    }
   ],
   "source": [
    "with(logit.train, pchisq(null.deviance - deviance, df.null - df.residual, lower.tail = FALSE))"
   ]
  },
  {
   "cell_type": "markdown",
   "metadata": {},
   "source": [
    "Here we can see that the p-value is high, which means that our model isn't doing a good job in predicting the potability of the water sample.\n",
    "\n",
    "Let's see the accuracy and other characteristics of our model. We first do so using our testing dataset."
   ]
  },
  {
   "cell_type": "code",
   "execution_count": 17,
   "metadata": {
    "vscode": {
     "languageId": "r"
    }
   },
   "outputs": [
    {
     "data": {
      "text/html": [
       "<table class=\"dataframe\">\n",
       "<caption>A data.frame: 6 × 10</caption>\n",
       "<thead>\n",
       "\t<tr><th></th><th scope=col>ph</th><th scope=col>Hardness</th><th scope=col>Solids</th><th scope=col>Chloramines</th><th scope=col>Sulfate</th><th scope=col>Conductivity</th><th scope=col>Organic_carbon</th><th scope=col>Trihalomethanes</th><th scope=col>Turbidity</th><th scope=col>Potability</th></tr>\n",
       "\t<tr><th></th><th scope=col>&lt;dbl&gt;</th><th scope=col>&lt;dbl&gt;</th><th scope=col>&lt;dbl&gt;</th><th scope=col>&lt;dbl&gt;</th><th scope=col>&lt;dbl&gt;</th><th scope=col>&lt;dbl&gt;</th><th scope=col>&lt;dbl&gt;</th><th scope=col>&lt;dbl&gt;</th><th scope=col>&lt;dbl&gt;</th><th scope=col>&lt;int&gt;</th></tr>\n",
       "</thead>\n",
       "<tbody>\n",
       "\t<tr><th scope=row>2</th><td> 3.716080</td><td>129.4229</td><td>18630.06</td><td>6.635246</td><td>336.5433</td><td>592.8854</td><td>15.180013</td><td> 56.32908</td><td>4.500656</td><td>0</td></tr>\n",
       "\t<tr><th scope=row>4</th><td> 8.316766</td><td>214.3734</td><td>22018.42</td><td>8.059332</td><td>356.8861</td><td>363.2665</td><td>18.436524</td><td>100.34167</td><td>4.628771</td><td>0</td></tr>\n",
       "\t<tr><th scope=row>6</th><td> 5.584087</td><td>188.3133</td><td>28748.69</td><td>7.544869</td><td>326.6784</td><td>280.4679</td><td> 8.399735</td><td> 54.91786</td><td>2.559708</td><td>0</td></tr>\n",
       "\t<tr><th scope=row>8</th><td> 8.635849</td><td>203.3615</td><td>13672.09</td><td>4.563009</td><td>303.3098</td><td>474.6076</td><td>12.363817</td><td> 62.79831</td><td>4.401425</td><td>0</td></tr>\n",
       "\t<tr><th scope=row>9</th><td> 6.810541</td><td>118.9886</td><td>14285.58</td><td>7.804174</td><td>268.6469</td><td>389.3756</td><td>12.706049</td><td> 53.92885</td><td>3.595017</td><td>0</td></tr>\n",
       "\t<tr><th scope=row>10</th><td>11.180284</td><td>227.2315</td><td>25484.51</td><td>9.077200</td><td>404.0416</td><td>563.8855</td><td>17.927806</td><td> 71.97660</td><td>4.370562</td><td>0</td></tr>\n",
       "</tbody>\n",
       "</table>\n"
      ],
      "text/latex": [
       "A data.frame: 6 × 10\n",
       "\\begin{tabular}{r|llllllllll}\n",
       "  & ph & Hardness & Solids & Chloramines & Sulfate & Conductivity & Organic\\_carbon & Trihalomethanes & Turbidity & Potability\\\\\n",
       "  & <dbl> & <dbl> & <dbl> & <dbl> & <dbl> & <dbl> & <dbl> & <dbl> & <dbl> & <int>\\\\\n",
       "\\hline\n",
       "\t2 &  3.716080 & 129.4229 & 18630.06 & 6.635246 & 336.5433 & 592.8854 & 15.180013 &  56.32908 & 4.500656 & 0\\\\\n",
       "\t4 &  8.316766 & 214.3734 & 22018.42 & 8.059332 & 356.8861 & 363.2665 & 18.436524 & 100.34167 & 4.628771 & 0\\\\\n",
       "\t6 &  5.584087 & 188.3133 & 28748.69 & 7.544869 & 326.6784 & 280.4679 &  8.399735 &  54.91786 & 2.559708 & 0\\\\\n",
       "\t8 &  8.635849 & 203.3615 & 13672.09 & 4.563009 & 303.3098 & 474.6076 & 12.363817 &  62.79831 & 4.401425 & 0\\\\\n",
       "\t9 &  6.810541 & 118.9886 & 14285.58 & 7.804174 & 268.6469 & 389.3756 & 12.706049 &  53.92885 & 3.595017 & 0\\\\\n",
       "\t10 & 11.180284 & 227.2315 & 25484.51 & 9.077200 & 404.0416 & 563.8855 & 17.927806 &  71.97660 & 4.370562 & 0\\\\\n",
       "\\end{tabular}\n"
      ],
      "text/markdown": [
       "\n",
       "A data.frame: 6 × 10\n",
       "\n",
       "| <!--/--> | ph &lt;dbl&gt; | Hardness &lt;dbl&gt; | Solids &lt;dbl&gt; | Chloramines &lt;dbl&gt; | Sulfate &lt;dbl&gt; | Conductivity &lt;dbl&gt; | Organic_carbon &lt;dbl&gt; | Trihalomethanes &lt;dbl&gt; | Turbidity &lt;dbl&gt; | Potability &lt;int&gt; |\n",
       "|---|---|---|---|---|---|---|---|---|---|---|\n",
       "| 2 |  3.716080 | 129.4229 | 18630.06 | 6.635246 | 336.5433 | 592.8854 | 15.180013 |  56.32908 | 4.500656 | 0 |\n",
       "| 4 |  8.316766 | 214.3734 | 22018.42 | 8.059332 | 356.8861 | 363.2665 | 18.436524 | 100.34167 | 4.628771 | 0 |\n",
       "| 6 |  5.584087 | 188.3133 | 28748.69 | 7.544869 | 326.6784 | 280.4679 |  8.399735 |  54.91786 | 2.559708 | 0 |\n",
       "| 8 |  8.635849 | 203.3615 | 13672.09 | 4.563009 | 303.3098 | 474.6076 | 12.363817 |  62.79831 | 4.401425 | 0 |\n",
       "| 9 |  6.810541 | 118.9886 | 14285.58 | 7.804174 | 268.6469 | 389.3756 | 12.706049 |  53.92885 | 3.595017 | 0 |\n",
       "| 10 | 11.180284 | 227.2315 | 25484.51 | 9.077200 | 404.0416 | 563.8855 | 17.927806 |  71.97660 | 4.370562 | 0 |\n",
       "\n"
      ],
      "text/plain": [
       "   ph        Hardness Solids   Chloramines Sulfate  Conductivity Organic_carbon\n",
       "2   3.716080 129.4229 18630.06 6.635246    336.5433 592.8854     15.180013     \n",
       "4   8.316766 214.3734 22018.42 8.059332    356.8861 363.2665     18.436524     \n",
       "6   5.584087 188.3133 28748.69 7.544869    326.6784 280.4679      8.399735     \n",
       "8   8.635849 203.3615 13672.09 4.563009    303.3098 474.6076     12.363817     \n",
       "9   6.810541 118.9886 14285.58 7.804174    268.6469 389.3756     12.706049     \n",
       "10 11.180284 227.2315 25484.51 9.077200    404.0416 563.8855     17.927806     \n",
       "   Trihalomethanes Turbidity Potability\n",
       "2   56.32908       4.500656  0         \n",
       "4  100.34167       4.628771  0         \n",
       "6   54.91786       2.559708  0         \n",
       "8   62.79831       4.401425  0         \n",
       "9   53.92885       3.595017  0         \n",
       "10  71.97660       4.370562  0         "
      ]
     },
     "metadata": {},
     "output_type": "display_data"
    }
   ],
   "source": [
    "head(test_set)"
   ]
  },
  {
   "cell_type": "code",
   "execution_count": 18,
   "metadata": {
    "vscode": {
     "languageId": "r"
    }
   },
   "outputs": [
    {
     "data": {
      "text/html": [
       "<style>\n",
       ".list-inline {list-style: none; margin:0; padding: 0}\n",
       ".list-inline>li {display: inline-block}\n",
       ".list-inline>li:not(:last-child)::after {content: \"\\00b7\"; padding: 0 .5ex}\n",
       "</style>\n",
       "<ol class=list-inline><li>1638</li><li>10</li></ol>\n"
      ],
      "text/latex": [
       "\\begin{enumerate*}\n",
       "\\item 1638\n",
       "\\item 10\n",
       "\\end{enumerate*}\n"
      ],
      "text/markdown": [
       "1. 1638\n",
       "2. 10\n",
       "\n",
       "\n"
      ],
      "text/plain": [
       "[1] 1638   10"
      ]
     },
     "metadata": {},
     "output_type": "display_data"
    }
   ],
   "source": [
    "dim(test_set)"
   ]
  },
  {
   "cell_type": "code",
   "execution_count": 19,
   "metadata": {
    "vscode": {
     "languageId": "r"
    }
   },
   "outputs": [
    {
     "name": "stdout",
     "output_type": "stream",
     "text": [
      "                  \n",
      "predictions.binary   0   1\n",
      "                 0 996 641\n",
      "                 1   0   1\n"
     ]
    },
    {
     "data": {
      "text/html": [
       "'accuracy = 0.608669108669109'"
      ],
      "text/latex": [
       "'accuracy = 0.608669108669109'"
      ],
      "text/markdown": [
       "'accuracy = 0.608669108669109'"
      ],
      "text/plain": [
       "[1] \"accuracy = 0.608669108669109\""
      ]
     },
     "metadata": {},
     "output_type": "display_data"
    },
    {
     "data": {
      "text/html": [
       "'sensitivity = 1'"
      ],
      "text/latex": [
       "'sensitivity = 1'"
      ],
      "text/markdown": [
       "'sensitivity = 1'"
      ],
      "text/plain": [
       "[1] \"sensitivity = 1\""
      ]
     },
     "metadata": {},
     "output_type": "display_data"
    },
    {
     "data": {
      "text/html": [
       "'specificity = 0.00155763239875389'"
      ],
      "text/latex": [
       "'specificity = 0.00155763239875389'"
      ],
      "text/markdown": [
       "'specificity = 0.00155763239875389'"
      ],
      "text/plain": [
       "[1] \"specificity = 0.00155763239875389\""
      ]
     },
     "metadata": {},
     "output_type": "display_data"
    },
    {
     "data": {
      "text/html": [
       "'ppv = 0.608430054978619'"
      ],
      "text/latex": [
       "'ppv = 0.608430054978619'"
      ],
      "text/markdown": [
       "'ppv = 0.608430054978619'"
      ],
      "text/plain": [
       "[1] \"ppv = 0.608430054978619\""
      ]
     },
     "metadata": {},
     "output_type": "display_data"
    },
    {
     "data": {
      "text/html": [
       "'npv = 1'"
      ],
      "text/latex": [
       "'npv = 1'"
      ],
      "text/markdown": [
       "'npv = 1'"
      ],
      "text/plain": [
       "[1] \"npv = 1\""
      ]
     },
     "metadata": {},
     "output_type": "display_data"
    }
   ],
   "source": [
    "predictions <- predict(logit.train, test_set, type=\"response\")\n",
    "predictions.binary <- ifelse(predictions > 0.5, 1, 0)\n",
    "cftable <- table(predictions.binary, test_set$Potability)\n",
    "\n",
    "accuracy <- sum(diag(cftable))/sum(cftable)\n",
    "sensitivity<-cftable[1]/(cftable[1] + cftable[2])\n",
    "specificity <- cftable[4]/(cftable[3] + cftable[4])\n",
    "ppv <- cftable[1]/(cftable[1] + cftable[3])\n",
    "npv <- cftable[4]/(cftable[2] + cftable[4])\n",
    "print(cftable)\n",
    "sprintf(\"accuracy = %s\", accuracy)\n",
    "sprintf(\"sensitivity = %s\", sensitivity)\n",
    "sprintf(\"specificity = %s\", specificity)\n",
    "sprintf(\"ppv = %s\", ppv)\n",
    "sprintf(\"npv = %s\", npv)"
   ]
  },
  {
   "cell_type": "markdown",
   "metadata": {},
   "source": [
    "We now check our model's work on the training dataset."
   ]
  },
  {
   "cell_type": "code",
   "execution_count": 20,
   "metadata": {
    "vscode": {
     "languageId": "r"
    }
   },
   "outputs": [
    {
     "name": "stdout",
     "output_type": "stream",
     "text": [
      "                  \n",
      "predictions.binary    0    1\n",
      "                 0 1002  636\n"
     ]
    },
    {
     "data": {
      "text/html": [
       "'accuracy = 0.611721611721612'"
      ],
      "text/latex": [
       "'accuracy = 0.611721611721612'"
      ],
      "text/markdown": [
       "'accuracy = 0.611721611721612'"
      ],
      "text/plain": [
       "[1] \"accuracy = 0.611721611721612\""
      ]
     },
     "metadata": {},
     "output_type": "display_data"
    },
    {
     "data": {
      "text/html": [
       "'sensitivity = 0.611721611721612'"
      ],
      "text/latex": [
       "'sensitivity = 0.611721611721612'"
      ],
      "text/markdown": [
       "'sensitivity = 0.611721611721612'"
      ],
      "text/plain": [
       "[1] \"sensitivity = 0.611721611721612\""
      ]
     },
     "metadata": {},
     "output_type": "display_data"
    },
    {
     "data": {
      "text/html": [
       "'specificity = NA'"
      ],
      "text/latex": [
       "'specificity = NA'"
      ],
      "text/markdown": [
       "'specificity = NA'"
      ],
      "text/plain": [
       "[1] \"specificity = NA\""
      ]
     },
     "metadata": {},
     "output_type": "display_data"
    },
    {
     "data": {
      "text/html": [
       "'ppv = NA'"
      ],
      "text/latex": [
       "'ppv = NA'"
      ],
      "text/markdown": [
       "'ppv = NA'"
      ],
      "text/plain": [
       "[1] \"ppv = NA\""
      ]
     },
     "metadata": {},
     "output_type": "display_data"
    },
    {
     "data": {
      "text/html": [
       "'npv = NA'"
      ],
      "text/latex": [
       "'npv = NA'"
      ],
      "text/markdown": [
       "'npv = NA'"
      ],
      "text/plain": [
       "[1] \"npv = NA\""
      ]
     },
     "metadata": {},
     "output_type": "display_data"
    }
   ],
   "source": [
    "predictions <- predict(logit.train, train_set, type=\"response\")\n",
    "predictions.binary <- ifelse(predictions > 0.5, 1, 0)\n",
    "cftable <- table(predictions.binary, train_set$Potability)\n",
    "accuracy <- sum(diag(cftable))/sum(cftable)\n",
    "sensitivity<-cftable[1]/(cftable[1] + cftable[2])\n",
    "specificity <- cftable[4]/(cftable[3] + cftable[4])\n",
    "ppv <- cftable[1]/(cftable[1] + cftable[3])\n",
    "npv <- cftable[4]/(cftable[2] + cftable[4])\n",
    "print(cftable)\n",
    "sprintf(\"accuracy = %s\", accuracy)\n",
    "sprintf(\"sensitivity = %s\", sensitivity)\n",
    "sprintf(\"specificity = %s\", specificity)\n",
    "sprintf(\"ppv = %s\", ppv)\n",
    "sprintf(\"npv = %s\", npv)"
   ]
  },
  {
   "cell_type": "markdown",
   "metadata": {},
   "source": [
    "#### AUC/ROC Curves"
   ]
  },
  {
   "cell_type": "code",
   "execution_count": 21,
   "metadata": {
    "vscode": {
     "languageId": "r"
    }
   },
   "outputs": [
    {
     "name": "stderr",
     "output_type": "stream",
     "text": [
      "Setting levels: control = 0, case = 1\n",
      "\n",
      "Setting direction: controls < cases\n",
      "\n"
     ]
    },
    {
     "data": {
      "text/plain": [
       "\n",
       "Call:\n",
       "roc.default(response = train_set$Potability, predictor = predictions)\n",
       "\n",
       "Data: predictions in 1002 controls (train_set$Potability 0) < 636 cases (train_set$Potability 1).\n",
       "Area under the curve: 0.5207"
      ]
     },
     "metadata": {},
     "output_type": "display_data"
    },
    {
     "data": {
      "image/png": "[encoded data removed]",
      "text/plain": [
       "Plot with title \"Train ROC\""
      ]
     },
     "metadata": {
      "image/png": {
       "height": 420,
       "width": 420
      }
     },
     "output_type": "display_data"
    }
   ],
   "source": [
    "predictions <- predict(logit.train, train_set, type=\"response\")\n",
    "train.roc <- roc(train_set$Potability, predictions)\n",
    "plot.roc(train.roc, main=\"Train ROC\", col=par(\"fg\"), plot=TRUE, print.auc=FALSE, legacy.axes=FALSE, asp =NA)\n",
    "plot.roc(smooth(train.roc), col=\"blue\", add=TRUE, plot=TRUE, print.auc=TRUE, legacy.axes=TRUE, asp=NA)\n",
    "legend(\"bottomright\", legend=c(\"Empirical\", \"Smoothed\"),\n",
    "       col=c(par(\"fg\"), \"blue\"), lwd=2)\n",
    "train.roc"
   ]
  },
  {
   "cell_type": "code",
   "execution_count": 22,
   "metadata": {
    "vscode": {
     "languageId": "r"
    }
   },
   "outputs": [
    {
     "name": "stderr",
     "output_type": "stream",
     "text": [
      "Setting levels: control = 0, case = 1\n",
      "\n",
      "Setting direction: controls > cases\n",
      "\n"
     ]
    },
    {
     "data": {
      "text/plain": [
       "\n",
       "Call:\n",
       "roc.default(response = test_set$Potability, predictor = predictions)\n",
       "\n",
       "Data: predictions in 996 controls (test_set$Potability 0) > 642 cases (test_set$Potability 1).\n",
       "Area under the curve: 0.5018"
      ]
     },
     "metadata": {},
     "output_type": "display_data"
    },
    {
     "data": {
      "image/png": "[encoded data removed]",
      "text/plain": [
       "Plot with title \"Test ROC\""
      ]
     },
     "metadata": {
      "image/png": {
       "height": 420,
       "width": 420
      }
     },
     "output_type": "display_data"
    }
   ],
   "source": [
    "predictions <- predict(logit.train, test_set, type=\"response\")\n",
    "test.roc <- roc(test_set$Potability, predictions)\n",
    "plot.roc(test.roc, main=\"Test ROC\", col=par(\"fg\"), plot=TRUE, print.auc=FALSE, legacy.axes=FALSE, asp =NA)\n",
    "plot.roc(smooth(test.roc), col=\"blue\", add=TRUE, plot=TRUE, print.auc=TRUE, legacy.axes=TRUE, asp=NA)\n",
    "legend(\"bottomright\", legend=c(\"Empirical\", \"Smoothed\"),\n",
    "       col=c(par(\"fg\"), \"blue\"), lwd=2)\n",
    "test.roc"
   ]
  },
  {
   "cell_type": "markdown",
   "metadata": {},
   "source": [
    "### 80/20 split"
   ]
  },
  {
   "cell_type": "code",
   "execution_count": 23,
   "metadata": {
    "vscode": {
     "languageId": "r"
    }
   },
   "outputs": [
    {
     "data": {
      "text/plain": [
       "\n",
       "Call:\n",
       "glm(formula = Potability ~ ., family = \"binomial\", data = train_set)\n",
       "\n",
       "Coefficients:\n",
       "                  Estimate Std. Error z value Pr(>|z|)  \n",
       "(Intercept)      1.607e-01  6.905e-01   0.233   0.8160  \n",
       "ph               2.105e-03  2.738e-02   0.077   0.9387  \n",
       "Hardness        -4.318e-04  1.245e-03  -0.347   0.7288  \n",
       "Solids           9.285e-06  4.719e-06   1.967   0.0491 *\n",
       "Chloramines      6.066e-03  2.579e-02   0.235   0.8140  \n",
       "Sulfate         -1.061e-03  1.124e-03  -0.945   0.3449  \n",
       "Conductivity    -3.319e-06  4.972e-04  -0.007   0.9947  \n",
       "Organic_carbon  -1.658e-02  1.217e-02  -1.362   0.1732  \n",
       "Trihalomethanes -1.132e-03  2.555e-03  -0.443   0.6577  \n",
       "Turbidity       -3.404e-02  5.151e-02  -0.661   0.5088  \n",
       "---\n",
       "Signif. codes:  0 '***' 0.001 '**' 0.01 '*' 0.05 '.' 0.1 ' ' 1\n",
       "\n",
       "(Dispersion parameter for binomial family taken to be 1)\n",
       "\n",
       "    Null deviance: 3495.3  on 2619  degrees of freedom\n",
       "Residual deviance: 3487.2  on 2610  degrees of freedom\n",
       "AIC: 3507.2\n",
       "\n",
       "Number of Fisher Scoring iterations: 4\n"
      ]
     },
     "metadata": {},
     "output_type": "display_data"
    }
   ],
   "source": [
    "set.seed(530)\n",
    "indices <- sample(1:nrow(water.quality), 0.8 * nrow(water.quality), replace = FALSE)\n",
    "train_set <- water.quality[indices, ]\n",
    "test_set <- water.quality[-indices, ]\n",
    "\n",
    "logit.train <- glm(Potability ~ ., data=train_set, family = \"binomial\")\n",
    "summary(logit.train)"
   ]
  },
  {
   "cell_type": "code",
   "execution_count": 24,
   "metadata": {
    "vscode": {
     "languageId": "r"
    }
   },
   "outputs": [
    {
     "name": "stdout",
     "output_type": "stream",
     "text": [
      "                  \n",
      "predictions.binary   0   1\n",
      "                 0 390 265\n",
      "                 1   0   1\n"
     ]
    },
    {
     "data": {
      "text/html": [
       "'accuracy = 0.596036585365854'"
      ],
      "text/latex": [
       "'accuracy = 0.596036585365854'"
      ],
      "text/markdown": [
       "'accuracy = 0.596036585365854'"
      ],
      "text/plain": [
       "[1] \"accuracy = 0.596036585365854\""
      ]
     },
     "metadata": {},
     "output_type": "display_data"
    },
    {
     "data": {
      "text/html": [
       "'sensitivity = 1'"
      ],
      "text/latex": [
       "'sensitivity = 1'"
      ],
      "text/markdown": [
       "'sensitivity = 1'"
      ],
      "text/plain": [
       "[1] \"sensitivity = 1\""
      ]
     },
     "metadata": {},
     "output_type": "display_data"
    },
    {
     "data": {
      "text/html": [
       "'specificity = 0.0037593984962406'"
      ],
      "text/latex": [
       "'specificity = 0.0037593984962406'"
      ],
      "text/markdown": [
       "'specificity = 0.0037593984962406'"
      ],
      "text/plain": [
       "[1] \"specificity = 0.0037593984962406\""
      ]
     },
     "metadata": {},
     "output_type": "display_data"
    },
    {
     "data": {
      "text/html": [
       "'ppv = 0.595419847328244'"
      ],
      "text/latex": [
       "'ppv = 0.595419847328244'"
      ],
      "text/markdown": [
       "'ppv = 0.595419847328244'"
      ],
      "text/plain": [
       "[1] \"ppv = 0.595419847328244\""
      ]
     },
     "metadata": {},
     "output_type": "display_data"
    },
    {
     "data": {
      "text/html": [
       "'npv = 1'"
      ],
      "text/latex": [
       "'npv = 1'"
      ],
      "text/markdown": [
       "'npv = 1'"
      ],
      "text/plain": [
       "[1] \"npv = 1\""
      ]
     },
     "metadata": {},
     "output_type": "display_data"
    }
   ],
   "source": [
    "predictions <- predict(logit.train, test_set, type=\"response\")\n",
    "predictions.binary <- ifelse(predictions > 0.5, 1, 0)\n",
    "cftable <- table(predictions.binary, test_set$Potability)\n",
    "\n",
    "accuracy <- sum(diag(cftable))/sum(cftable)\n",
    "sensitivity<-cftable[1]/(cftable[1] + cftable[2])\n",
    "specificity <- cftable[4]/(cftable[3] + cftable[4])\n",
    "ppv <- cftable[1]/(cftable[1] + cftable[3])\n",
    "npv <- cftable[4]/(cftable[2] + cftable[4])\n",
    "print(cftable)\n",
    "sprintf(\"accuracy = %s\", accuracy)\n",
    "sprintf(\"sensitivity = %s\", sensitivity)\n",
    "sprintf(\"specificity = %s\", specificity)\n",
    "sprintf(\"ppv = %s\", ppv)\n",
    "sprintf(\"npv = %s\", npv)"
   ]
  },
  {
   "cell_type": "code",
   "execution_count": 25,
   "metadata": {
    "vscode": {
     "languageId": "r"
    }
   },
   "outputs": [
    {
     "name": "stdout",
     "output_type": "stream",
     "text": [
      "                  \n",
      "predictions.binary    0    1\n",
      "                 0 1608 1011\n",
      "                 1    0    1\n"
     ]
    },
    {
     "data": {
      "text/html": [
       "'accuracy = 0.61412213740458'"
      ],
      "text/latex": [
       "'accuracy = 0.61412213740458'"
      ],
      "text/markdown": [
       "'accuracy = 0.61412213740458'"
      ],
      "text/plain": [
       "[1] \"accuracy = 0.61412213740458\""
      ]
     },
     "metadata": {},
     "output_type": "display_data"
    },
    {
     "data": {
      "text/html": [
       "'sensitivity = 1'"
      ],
      "text/latex": [
       "'sensitivity = 1'"
      ],
      "text/markdown": [
       "'sensitivity = 1'"
      ],
      "text/plain": [
       "[1] \"sensitivity = 1\""
      ]
     },
     "metadata": {},
     "output_type": "display_data"
    },
    {
     "data": {
      "text/html": [
       "'specificity = 0.000988142292490119'"
      ],
      "text/latex": [
       "'specificity = 0.000988142292490119'"
      ],
      "text/markdown": [
       "'specificity = 0.000988142292490119'"
      ],
      "text/plain": [
       "[1] \"specificity = 0.000988142292490119\""
      ]
     },
     "metadata": {},
     "output_type": "display_data"
    },
    {
     "data": {
      "text/html": [
       "'ppv = 0.61397479954181'"
      ],
      "text/latex": [
       "'ppv = 0.61397479954181'"
      ],
      "text/markdown": [
       "'ppv = 0.61397479954181'"
      ],
      "text/plain": [
       "[1] \"ppv = 0.61397479954181\""
      ]
     },
     "metadata": {},
     "output_type": "display_data"
    },
    {
     "data": {
      "text/html": [
       "'npv = 1'"
      ],
      "text/latex": [
       "'npv = 1'"
      ],
      "text/markdown": [
       "'npv = 1'"
      ],
      "text/plain": [
       "[1] \"npv = 1\""
      ]
     },
     "metadata": {},
     "output_type": "display_data"
    }
   ],
   "source": [
    "predictions <- predict(logit.train, train_set, type=\"response\")\n",
    "predictions.binary <- ifelse(predictions > 0.5, 1, 0)\n",
    "cftable <- table(predictions.binary, train_set$Potability)\n",
    "accuracy <- sum(diag(cftable))/sum(cftable)\n",
    "sensitivity<-cftable[1]/(cftable[1] + cftable[2])\n",
    "specificity <- cftable[4]/(cftable[3] + cftable[4])\n",
    "ppv <- cftable[1]/(cftable[1] + cftable[3])\n",
    "npv <- cftable[4]/(cftable[2] + cftable[4])\n",
    "print(cftable)\n",
    "sprintf(\"accuracy = %s\", accuracy)\n",
    "sprintf(\"sensitivity = %s\", sensitivity)\n",
    "sprintf(\"specificity = %s\", specificity)\n",
    "sprintf(\"ppv = %s\", ppv)\n",
    "sprintf(\"npv = %s\", npv)"
   ]
  },
  {
   "cell_type": "markdown",
   "metadata": {},
   "source": [
    "#### AUC/ROC Curves"
   ]
  },
  {
   "cell_type": "code",
   "execution_count": 26,
   "metadata": {
    "vscode": {
     "languageId": "r"
    }
   },
   "outputs": [
    {
     "name": "stderr",
     "output_type": "stream",
     "text": [
      "Setting levels: control = 0, case = 1\n",
      "\n",
      "Setting direction: controls < cases\n",
      "\n"
     ]
    },
    {
     "data": {
      "text/plain": [
       "\n",
       "Call:\n",
       "roc.default(response = train_set$Potability, predictor = predictions)\n",
       "\n",
       "Data: predictions in 1608 controls (train_set$Potability 0) < 1012 cases (train_set$Potability 1).\n",
       "Area under the curve: 0.5241"
      ]
     },
     "metadata": {},
     "output_type": "display_data"
    },
    {
     "data": {
      "image/png": "[encoded data removed]",
      "text/plain": [
       "Plot with title \"Train ROC\""
      ]
     },
     "metadata": {
      "image/png": {
       "height": 420,
       "width": 420
      }
     },
     "output_type": "display_data"
    }
   ],
   "source": [
    "predictions <- predict(logit.train, train_set, type=\"response\")\n",
    "train.roc <- roc(train_set$Potability, predictions)\n",
    "plot.roc(train.roc, main=\"Train ROC\", col=par(\"fg\"), plot=TRUE, print.auc=FALSE, legacy.axes=FALSE, asp =NA)\n",
    "plot.roc(smooth(train.roc), col=\"blue\", add=TRUE, plot=TRUE, print.auc=TRUE, legacy.axes=TRUE, asp=NA)\n",
    "legend(\"bottomright\", legend=c(\"Empirical\", \"Smoothed\"),\n",
    "       col=c(par(\"fg\"), \"blue\"), lwd=2)\n",
    "train.roc"
   ]
  },
  {
   "cell_type": "code",
   "execution_count": 27,
   "metadata": {
    "vscode": {
     "languageId": "r"
    }
   },
   "outputs": [
    {
     "name": "stderr",
     "output_type": "stream",
     "text": [
      "Setting levels: control = 0, case = 1\n",
      "\n",
      "Setting direction: controls > cases\n",
      "\n"
     ]
    },
    {
     "data": {
      "text/plain": [
       "\n",
       "Call:\n",
       "roc.default(response = test_set$Potability, predictor = predictions)\n",
       "\n",
       "Data: predictions in 390 controls (test_set$Potability 0) > 266 cases (test_set$Potability 1).\n",
       "Area under the curve: 0.5109"
      ]
     },
     "metadata": {},
     "output_type": "display_data"
    },
    {
     "data": {
      "image/png": "[encoded data removed]",
      "text/plain": [
       "Plot with title \"Test ROC\""
      ]
     },
     "metadata": {
      "image/png": {
       "height": 420,
       "width": 420
      }
     },
     "output_type": "display_data"
    }
   ],
   "source": [
    "predictions <- predict(logit.train, test_set, type=\"response\")\n",
    "test.roc <- roc(test_set$Potability, predictions)\n",
    "plot.roc(test.roc, main=\"Test ROC\", col=par(\"fg\"), plot=TRUE, print.auc=FALSE, legacy.axes=FALSE, asp =NA)\n",
    "plot.roc(smooth(test.roc), col=\"blue\", add=TRUE, plot=TRUE, print.auc=TRUE, legacy.axes=TRUE, asp=NA)\n",
    "legend(\"bottomright\", legend=c(\"Empirical\", \"Smoothed\"),\n",
    "       col=c(par(\"fg\"), \"blue\"), lwd=2)\n",
    "test.roc"
   ]
  },
  {
   "cell_type": "markdown",
   "metadata": {},
   "source": [
    "The results are as shown below\n",
    "\n",
    "## Results of the  Logistic Regression Model\n",
    "\n",
    "### 50/50 split\n",
    "\n",
    "**Model:**\n",
    "$$\n",
    "\\begin{align*}\n",
    "\\text{Potability} = logit(p) =\n",
    "&-4.136 \\times 10^{-1}\n",
    "+ (5.887 \\times 10^{-3} \\times \\text{ph})\n",
    "+ (3.711 \\times 10^{-4} \\times \\text{hardness})\n",
    "+ (7.326 \\times 10^{-6} \\times \\text{Solids}) \\\\\n",
    "&+ (7.128 \\times 10^{-4} \\times \\text{Chloramines})\n",
    "- (8.104 \\times 10^{-4} \\times \\text{Sulfate})\n",
    "+ (5.351 \\times 10^{-4} \\times \\text{Conductivity}) \\\\\n",
    "&- (1.082 \\times 10^{-2} \\times \\text{Organic\\_ carbon})\n",
    "- (2.351 \\times 10^{-3} \\times \\text{Trihalomethanes})\n",
    "+ (7.501 \\times 10^{-3} \\times \\text{Turbidity})\n",
    "\\end{align*}\n",
    "$$\n",
    "\n",
    "**Model Performance:**\n",
    "\n",
    "| Dataset | Accuracy | Sensitivity | Specificity | PPV | NPV |\n",
    "| ------- | -------- | ----------- | ----------- | --- | --- |\n",
    "| Test | 0.608669108669109 | 1 | 0.00155763239875389 | 0.608430054978619 | 1 |\n",
    "| Train | 0.611721611721612 | 0.611721611721612 | NA | NA | NA |\n",
    "\n",
    "## Model: Random Forest\n",
    "\n",
    "The second model we will be looking at is the random forest classifier.\n",
    "\n",
    "The Random forest classifier is an ensemble learning method. Decision trees by themselves can have a lot of bias and overfitting. This is counteracted by using a Random Forest model, which can help us classify a large number of features and also help us identify the important attributes in our dataset.\n",
    "\n",
    "The basic working of this algorithm takes a random sample of our dataset and builds a series of decision trees on the subsets, hence giving us a whole bunch of decision trees together. The more decision trees we use, the better our random forest will be at predicting, hence increasing the prediction accuracy.\n",
    "\n",
    "Advantages:\n",
    "\n",
    "- Reduces Overfitting\n",
    "- Reduces the bias\n",
    "\n",
    "The parameters we haveat hand for random forests are\n",
    "- Node size\n",
    "- Number of trees\n",
    "- Number of features\n",
    "\n",
    "A large number of trees would be ideal, but this would lead to a longer training time and the model even takes up more memory.\n",
    "\n",
    "The model working is as follows:\n",
    "\n",
    "- Draw **ntree** bootstrap samples\n",
    "- For each sample, grow an unpruned tree by choosing the best split based on a random sample of **mtry** predictors at each node.\n",
    "- Predict new data using majority votes for classification (and average for regression, which we are not using in this case) based on the ntree trees.\n",
    "\n",
    "#### 50/50 Split"
   ]
  },
  {
   "cell_type": "code",
   "execution_count": 28,
   "metadata": {
    "vscode": {
     "languageId": "r"
    }
   },
   "outputs": [],
   "source": [
    "set.seed(530)\n",
    "indices <- sample(1:nrow(water.quality), 0.5 * nrow(water.quality), replace = FALSE)\n",
    "train_set <- water.quality[indices, ]\n",
    "test_set <- water.quality[-indices, ]"
   ]
  },
  {
   "cell_type": "code",
   "execution_count": 29,
   "metadata": {
    "vscode": {
     "languageId": "r"
    }
   },
   "outputs": [
    {
     "name": "stdout",
     "output_type": "stream",
     "text": [
      "\n",
      "Call:\n",
      " randomForest(formula = factor(Potability) ~ ., data = train_set,      ntree = 500, mtry = 3, importance = TRUE) \n",
      "               Type of random forest: classification\n",
      "                     Number of trees: 500\n",
      "No. of variables tried at each split: 3\n",
      "\n",
      "        OOB estimate of  error rate: 28.69%\n",
      "Confusion matrix:\n",
      "    0   1 class.error\n",
      "0 891 111   0.1107784\n",
      "1 359 277   0.5644654\n"
     ]
    }
   ],
   "source": [
    "set.seed(530)\n",
    "rf.model <- randomForest(factor(Potability) ~ ., data = train_set, ntree = 500, mtry = 3, importance = TRUE)\n",
    "print(rf.model)"
   ]
  },
  {
   "cell_type": "markdown",
   "metadata": {},
   "source": [
    "Seeing our model above, our out of bag (OOB) error is 28.69%, which tells us that the train dataset model accuracy is 71.31%."
   ]
  },
  {
   "cell_type": "code",
   "execution_count": 30,
   "metadata": {
    "vscode": {
     "languageId": "r"
    }
   },
   "outputs": [
    {
     "data": {
      "text/plain": [
       "Confusion Matrix and Statistics\n",
       "\n",
       "          Reference\n",
       "Prediction    0    1\n",
       "         0 1002    0\n",
       "         1    0  636\n",
       "                                     \n",
       "               Accuracy : 1          \n",
       "                 95% CI : (0.9978, 1)\n",
       "    No Information Rate : 0.6117     \n",
       "    P-Value [Acc > NIR] : < 2.2e-16  \n",
       "                                     \n",
       "                  Kappa : 1          \n",
       "                                     \n",
       " Mcnemar's Test P-Value : NA         \n",
       "                                     \n",
       "            Sensitivity : 1.0000     \n",
       "            Specificity : 1.0000     \n",
       "         Pos Pred Value : 1.0000     \n",
       "         Neg Pred Value : 1.0000     \n",
       "             Prevalence : 0.6117     \n",
       "         Detection Rate : 0.6117     \n",
       "   Detection Prevalence : 0.6117     \n",
       "      Balanced Accuracy : 1.0000     \n",
       "                                     \n",
       "       'Positive' Class : 0          \n",
       "                                     "
      ]
     },
     "metadata": {},
     "output_type": "display_data"
    }
   ],
   "source": [
    "predictions <- predict(rf.model, train_set)\n",
    "confusionMatrix(predictions, as.factor(train_set$Potability))"
   ]
  },
  {
   "cell_type": "code",
   "execution_count": 31,
   "metadata": {
    "vscode": {
     "languageId": "r"
    }
   },
   "outputs": [
    {
     "data": {
      "text/plain": [
       "Confusion Matrix and Statistics\n",
       "\n",
       "          Reference\n",
       "Prediction   0   1\n",
       "         0 865 344\n",
       "         1 131 298\n",
       "                                          \n",
       "               Accuracy : 0.71            \n",
       "                 95% CI : (0.6874, 0.7319)\n",
       "    No Information Rate : 0.6081          \n",
       "    P-Value [Acc > NIR] : < 2.2e-16       \n",
       "                                          \n",
       "                  Kappa : 0.3535          \n",
       "                                          \n",
       " Mcnemar's Test P-Value : < 2.2e-16       \n",
       "                                          \n",
       "            Sensitivity : 0.8685          \n",
       "            Specificity : 0.4642          \n",
       "         Pos Pred Value : 0.7155          \n",
       "         Neg Pred Value : 0.6946          \n",
       "             Prevalence : 0.6081          \n",
       "         Detection Rate : 0.5281          \n",
       "   Detection Prevalence : 0.7381          \n",
       "      Balanced Accuracy : 0.6663          \n",
       "                                          \n",
       "       'Positive' Class : 0               \n",
       "                                          "
      ]
     },
     "metadata": {},
     "output_type": "display_data"
    }
   ],
   "source": [
    "predictions <- predict(rf.model, test_set)\n",
    "confusionMatrix(predictions, as.factor(test_set$Potability))"
   ]
  },
  {
   "cell_type": "markdown",
   "metadata": {},
   "source": [
    "#### AUC/ROC Curves"
   ]
  },
  {
   "cell_type": "code",
   "execution_count": 32,
   "metadata": {
    "vscode": {
     "languageId": "r"
    }
   },
   "outputs": [
    {
     "name": "stderr",
     "output_type": "stream",
     "text": [
      "Setting levels: control = 0, case = 1\n",
      "\n",
      "Setting direction: controls < cases\n",
      "\n"
     ]
    },
    {
     "data": {
      "text/plain": [
       "\n",
       "Call:\n",
       "roc.default(response = train_set$Potability, predictor = predictions)\n",
       "\n",
       "Data: predictions in 1002 controls (train_set$Potability 0) < 636 cases (train_set$Potability 1).\n",
       "Area under the curve: 1"
      ]
     },
     "metadata": {},
     "output_type": "display_data"
    },
    {
     "data": {
      "image/png": "[encoded data removed]",
      "text/plain": [
       "Plot with title \"Train ROC\""
      ]
     },
     "metadata": {
      "image/png": {
       "height": 420,
       "width": 420
      }
     },
     "output_type": "display_data"
    }
   ],
   "source": [
    "predictions <- as.numeric(predict(rf.model, train_set))\n",
    "train.roc <- roc(train_set$Potability, predictions)\n",
    "plot.roc(train.roc, main=\"Train ROC\", col=par(\"fg\"), plot=TRUE, print.auc=TRUE, legacy.axes=FALSE, asp =NA)\n",
    "train.roc"
   ]
  },
  {
   "cell_type": "code",
   "execution_count": 33,
   "metadata": {
    "vscode": {
     "languageId": "r"
    }
   },
   "outputs": [
    {
     "name": "stderr",
     "output_type": "stream",
     "text": [
      "Setting levels: control = 0, case = 1\n",
      "\n",
      "Setting direction: controls < cases\n",
      "\n"
     ]
    },
    {
     "data": {
      "text/plain": [
       "\n",
       "Call:\n",
       "roc.default(response = test_set$Potability, predictor = predictions)\n",
       "\n",
       "Data: predictions in 996 controls (test_set$Potability 0) < 642 cases (test_set$Potability 1).\n",
       "Area under the curve: 0.6673"
      ]
     },
     "metadata": {},
     "output_type": "display_data"
    },
    {
     "data": {
      "image/png": "[encoded data removed]",
      "text/plain": [
       "Plot with title \"Test ROC\""
      ]
     },
     "metadata": {
      "image/png": {
       "height": 420,
       "width": 420
      }
     },
     "output_type": "display_data"
    }
   ],
   "source": [
    "predictions <- as.numeric(predict(rf.model, test_set))\n",
    "test.roc <- roc(test_set$Potability, predictions)\n",
    "plot.roc(test.roc, main=\"Test ROC\", col=par(\"fg\"), plot=TRUE, print.auc=TRUE, legacy.axes=FALSE, asp =NA)\n",
    "test.roc"
   ]
  },
  {
   "cell_type": "markdown",
   "metadata": {},
   "source": [
    "We get the error rates of our random forest model below"
   ]
  },
  {
   "cell_type": "code",
   "execution_count": 34,
   "metadata": {
    "vscode": {
     "languageId": "r"
    }
   },
   "outputs": [
    {
     "data": {
      "image/png": "[encoded data removed]",
      "text/plain": [
       "Plot with title \"rf.model\""
      ]
     },
     "metadata": {
      "image/png": {
       "height": 420,
       "width": 420
      }
     },
     "output_type": "display_data"
    }
   ],
   "source": [
    "plot(rf.model)"
   ]
  },
  {
   "cell_type": "markdown",
   "metadata": {},
   "source": [
    "Now, we can tune this model by increasing the ntree value, which will increase the accuracy to a certain point, but this is highly limited by compute time.\n",
    "\n",
    "In this case, starting with the default value of mtry (number of random predictors at each node), we are trying to find the optimal value based on the out of box error.\n",
    "\n",
    "In the code below, tuneRF takes\n",
    "\n",
    "- The X values\n",
    "- The Y values\n",
    "- stepFactor -> This tells us how much the mtry value is changed at each iteration\n",
    "- improve -> This tells the function how much the out of box error must improve for the search to continue\n",
    "- ntreeTry -> The number of trees used in each tuning step"
   ]
  },
  {
   "cell_type": "code",
   "execution_count": 35,
   "metadata": {
    "vscode": {
     "languageId": "r"
    }
   },
   "outputs": [
    {
     "name": "stdout",
     "output_type": "stream",
     "text": [
      "mtry = 3  OOB error = 29.85% \n",
      "Searching left ...\n",
      "mtry = 2 \tOOB error = 29.43% \n",
      "0.01431493 1e-20 \n",
      "Searching right ...\n",
      "mtry = 4 \tOOB error = 29.24% \n",
      "0.006224066 1e-20 \n",
      "mtry = 6 \tOOB error = 28.69% \n",
      "0.01878914 1e-20 \n",
      "mtry = 9 \tOOB error = 29.49% \n",
      "-0.02765957 1e-20 \n"
     ]
    },
    {
     "data": {
      "text/html": [
       "<table class=\"dataframe\">\n",
       "<caption>A matrix: 5 × 2 of type dbl</caption>\n",
       "<thead>\n",
       "\t<tr><th></th><th scope=col>mtry</th><th scope=col>OOBError</th></tr>\n",
       "</thead>\n",
       "<tbody>\n",
       "\t<tr><th scope=row>2.OOB</th><td>2</td><td>0.2942613</td></tr>\n",
       "\t<tr><th scope=row>3.OOB</th><td>3</td><td>0.2985348</td></tr>\n",
       "\t<tr><th scope=row>4.OOB</th><td>4</td><td>0.2924298</td></tr>\n",
       "\t<tr><th scope=row>6.OOB</th><td>6</td><td>0.2869353</td></tr>\n",
       "\t<tr><th scope=row>9.OOB</th><td>9</td><td>0.2948718</td></tr>\n",
       "</tbody>\n",
       "</table>\n"
      ],
      "text/latex": [
       "A matrix: 5 × 2 of type dbl\n",
       "\\begin{tabular}{r|ll}\n",
       "  & mtry & OOBError\\\\\n",
       "\\hline\n",
       "\t2.OOB & 2 & 0.2942613\\\\\n",
       "\t3.OOB & 3 & 0.2985348\\\\\n",
       "\t4.OOB & 4 & 0.2924298\\\\\n",
       "\t6.OOB & 6 & 0.2869353\\\\\n",
       "\t9.OOB & 9 & 0.2948718\\\\\n",
       "\\end{tabular}\n"
      ],
      "text/markdown": [
       "\n",
       "A matrix: 5 × 2 of type dbl\n",
       "\n",
       "| <!--/--> | mtry | OOBError |\n",
       "|---|---|---|\n",
       "| 2.OOB | 2 | 0.2942613 |\n",
       "| 3.OOB | 3 | 0.2985348 |\n",
       "| 4.OOB | 4 | 0.2924298 |\n",
       "| 6.OOB | 6 | 0.2869353 |\n",
       "| 9.OOB | 9 | 0.2948718 |\n",
       "\n"
      ],
      "text/plain": [
       "      mtry OOBError \n",
       "2.OOB 2    0.2942613\n",
       "3.OOB 3    0.2985348\n",
       "4.OOB 4    0.2924298\n",
       "6.OOB 6    0.2869353\n",
       "9.OOB 9    0.2948718"
      ]
     },
     "metadata": {},
     "output_type": "display_data"
    },
    {
     "data": {
      "image/png": "[encoded data removed]",
      "text/plain": [
       "plot without title"
      ]
     },
     "metadata": {
      "image/png": {
       "height": 420,
       "width": 420
      }
     },
     "output_type": "display_data"
    }
   ],
   "source": [
    "set.seed(530)\n",
    "tuneRF(train_set[, -10], as.factor(train_set[, 10]), stepFactor=1.5, improve=1e-20, ntreeTry=500, plot=TRUE, trace=TRUE)"
   ]
  },
  {
   "cell_type": "markdown",
   "metadata": {},
   "source": [
    "From the obtained graph, we can see that we have the most optimal error value of 28.69% at an mtry value of 6, however our model already performs at the given level of accuracy.\n",
    "\n",
    "We now look at the number of nodes for the trees in our random forest."
   ]
  },
  {
   "cell_type": "code",
   "execution_count": 36,
   "metadata": {
    "vscode": {
     "languageId": "r"
    }
   },
   "outputs": [
    {
     "data": {
      "image/png": "[encoded data removed]",
      "text/plain": [
       "Plot with title \"No. of Nodes for the Trees\""
      ]
     },
     "metadata": {
      "image/png": {
       "height": 420,
       "width": 420
      }
     },
     "output_type": "display_data"
    }
   ],
   "source": [
    "hist(treesize(rf.model), main = \"No. of Nodes for the Trees\", col = \"lightblue\")"
   ]
  },
  {
   "cell_type": "markdown",
   "metadata": {},
   "source": [
    "### Variable Importance\n",
    "We will also look at the importance each variable in our dataset holds for the given tree model"
   ]
  },
  {
   "cell_type": "code",
   "execution_count": 37,
   "metadata": {
    "vscode": {
     "languageId": "r"
    }
   },
   "outputs": [
    {
     "data": {
      "text/html": [
       "<table class=\"dataframe\">\n",
       "<caption>A matrix: 9 × 4 of type dbl</caption>\n",
       "<thead>\n",
       "\t<tr><th></th><th scope=col>0</th><th scope=col>1</th><th scope=col>MeanDecreaseAccuracy</th><th scope=col>MeanDecreaseGini</th></tr>\n",
       "</thead>\n",
       "<tbody>\n",
       "\t<tr><th scope=row>ph</th><td>38.5198109</td><td>23.8204537</td><td>42.8898418</td><td>113.11343</td></tr>\n",
       "\t<tr><th scope=row>Hardness</th><td>24.6700038</td><td> 4.9919206</td><td>23.0584410</td><td> 93.33548</td></tr>\n",
       "\t<tr><th scope=row>Solids</th><td>10.6588412</td><td>16.8666563</td><td>19.5400862</td><td> 86.91883</td></tr>\n",
       "\t<tr><th scope=row>Chloramines</th><td>12.0253587</td><td> 7.1998431</td><td>14.2777404</td><td> 85.28892</td></tr>\n",
       "\t<tr><th scope=row>Sulfate</th><td>33.0312376</td><td>33.1821501</td><td>45.3481202</td><td>113.84377</td></tr>\n",
       "\t<tr><th scope=row>Conductivity</th><td> 0.4102107</td><td>-2.7318626</td><td>-1.3464702</td><td> 68.35019</td></tr>\n",
       "\t<tr><th scope=row>Organic_carbon</th><td> 2.5081462</td><td>-2.4391891</td><td> 0.3657326</td><td> 71.12518</td></tr>\n",
       "\t<tr><th scope=row>Trihalomethanes</th><td> 1.5711319</td><td>-0.9551103</td><td> 0.7060151</td><td> 72.95830</td></tr>\n",
       "\t<tr><th scope=row>Turbidity</th><td> 6.4223618</td><td>-1.3622942</td><td> 4.2780606</td><td> 72.76042</td></tr>\n",
       "</tbody>\n",
       "</table>\n"
      ],
      "text/latex": [
       "A matrix: 9 × 4 of type dbl\n",
       "\\begin{tabular}{r|llll}\n",
       "  & 0 & 1 & MeanDecreaseAccuracy & MeanDecreaseGini\\\\\n",
       "\\hline\n",
       "\tph & 38.5198109 & 23.8204537 & 42.8898418 & 113.11343\\\\\n",
       "\tHardness & 24.6700038 &  4.9919206 & 23.0584410 &  93.33548\\\\\n",
       "\tSolids & 10.6588412 & 16.8666563 & 19.5400862 &  86.91883\\\\\n",
       "\tChloramines & 12.0253587 &  7.1998431 & 14.2777404 &  85.28892\\\\\n",
       "\tSulfate & 33.0312376 & 33.1821501 & 45.3481202 & 113.84377\\\\\n",
       "\tConductivity &  0.4102107 & -2.7318626 & -1.3464702 &  68.35019\\\\\n",
       "\tOrganic\\_carbon &  2.5081462 & -2.4391891 &  0.3657326 &  71.12518\\\\\n",
       "\tTrihalomethanes &  1.5711319 & -0.9551103 &  0.7060151 &  72.95830\\\\\n",
       "\tTurbidity &  6.4223618 & -1.3622942 &  4.2780606 &  72.76042\\\\\n",
       "\\end{tabular}\n"
      ],
      "text/markdown": [
       "\n",
       "A matrix: 9 × 4 of type dbl\n",
       "\n",
       "| <!--/--> | 0 | 1 | MeanDecreaseAccuracy | MeanDecreaseGini |\n",
       "|---|---|---|---|---|\n",
       "| ph | 38.5198109 | 23.8204537 | 42.8898418 | 113.11343 |\n",
       "| Hardness | 24.6700038 |  4.9919206 | 23.0584410 |  93.33548 |\n",
       "| Solids | 10.6588412 | 16.8666563 | 19.5400862 |  86.91883 |\n",
       "| Chloramines | 12.0253587 |  7.1998431 | 14.2777404 |  85.28892 |\n",
       "| Sulfate | 33.0312376 | 33.1821501 | 45.3481202 | 113.84377 |\n",
       "| Conductivity |  0.4102107 | -2.7318626 | -1.3464702 |  68.35019 |\n",
       "| Organic_carbon |  2.5081462 | -2.4391891 |  0.3657326 |  71.12518 |\n",
       "| Trihalomethanes |  1.5711319 | -0.9551103 |  0.7060151 |  72.95830 |\n",
       "| Turbidity |  6.4223618 | -1.3622942 |  4.2780606 |  72.76042 |\n",
       "\n"
      ],
      "text/plain": [
       "                0          1          MeanDecreaseAccuracy MeanDecreaseGini\n",
       "ph              38.5198109 23.8204537 42.8898418           113.11343       \n",
       "Hardness        24.6700038  4.9919206 23.0584410            93.33548       \n",
       "Solids          10.6588412 16.8666563 19.5400862            86.91883       \n",
       "Chloramines     12.0253587  7.1998431 14.2777404            85.28892       \n",
       "Sulfate         33.0312376 33.1821501 45.3481202           113.84377       \n",
       "Conductivity     0.4102107 -2.7318626 -1.3464702            68.35019       \n",
       "Organic_carbon   2.5081462 -2.4391891  0.3657326            71.12518       \n",
       "Trihalomethanes  1.5711319 -0.9551103  0.7060151            72.95830       \n",
       "Turbidity        6.4223618 -1.3622942  4.2780606            72.76042       "
      ]
     },
     "metadata": {},
     "output_type": "display_data"
    },
    {
     "data": {
      "image/png": "[encoded data removed]",
      "text/plain": [
       "plot without title"
      ]
     },
     "metadata": {
      "image/png": {
       "height": 420,
       "width": 420
      }
     },
     "output_type": "display_data"
    }
   ],
   "source": [
    "importance(rf.model)\n",
    "varImpPlot(rf.model, sort=TRUE, n.var=9, main=\"Most important variables in our dataset\")"
   ]
  },
  {
   "cell_type": "markdown",
   "metadata": {},
   "source": [
    "The graph above shows how important each attribute in our dataset. Here we observe that Sulfate contrnt in each water sample holds the most importance, followed by the pH of the water sample.\n",
    "\n",
    "### Partial dependence of the attributes in our Random Forest Model\n",
    "\n",
    "Let's now have a look at how each of these variables are related to the Potability of our water samples.\n",
    "\n",
    "#### The effects of Sulfates on drinking water potability "
   ]
  },
  {
   "cell_type": "code",
   "execution_count": 38,
   "metadata": {
    "vscode": {
     "languageId": "r"
    }
   },
   "outputs": [
    {
     "data": {
      "image/png": "[encoded data removed]",
      "text/plain": [
       "Plot with title \"Partial Dependence on Sulfate\""
      ]
     },
     "metadata": {
      "image/png": {
       "height": 420,
       "width": 420
      }
     },
     "output_type": "display_data"
    }
   ],
   "source": [
    "partialPlot(rf.model, train_set, Sulfate, 1)"
   ]
  },
  {
   "cell_type": "markdown",
   "metadata": {},
   "source": [
    "Checking the Sulfate variable in our model with the training set, we see that Sulfates concentrations go low in the case of samples of potable water at approximately the 250 mg/L mark. This coincides with the safe level of sulfates allowed in drinking water according to the **United States Environmental Protection Agency** [Source](https://www.epa.gov/sites/default/files/2014-09/documents/support_cc1_sulfate_healtheffects.pdf)\n",
    "\n",
    "We will now check the same with our testing set to confirm that this holds true."
   ]
  },
  {
   "cell_type": "code",
   "execution_count": 39,
   "metadata": {
    "vscode": {
     "languageId": "r"
    }
   },
   "outputs": [
    {
     "data": {
      "image/png": "[encoded data removed]",
      "text/plain": [
       "Plot with title \"Partial Dependence on Sulfate\""
      ]
     },
     "metadata": {
      "image/png": {
       "height": 420,
       "width": 420
      }
     },
     "output_type": "display_data"
    }
   ],
   "source": [
    "partialPlot(rf.model, test_set, Sulfate, 1)"
   ]
  },
  {
   "cell_type": "markdown",
   "metadata": {},
   "source": [
    "This confirms our hypothesis. Now, we have a look at the importance of pH level on the water potability using the training and testing datasets.\n",
    "\n",
    "#### The effects of pH on drinking water potability"
   ]
  },
  {
   "cell_type": "code",
   "execution_count": 40,
   "metadata": {
    "vscode": {
     "languageId": "r"
    }
   },
   "outputs": [
    {
     "data": {
      "image/png": "[encoded data removed]",
      "text/plain": [
       "Plot with title \"Partial Dependence on ph\""
      ]
     },
     "metadata": {
      "image/png": {
       "height": 420,
       "width": 420
      }
     },
     "output_type": "display_data"
    }
   ],
   "source": [
    "partialPlot(rf.model, train_set, ph, 1)"
   ]
  },
  {
   "cell_type": "code",
   "execution_count": 41,
   "metadata": {
    "vscode": {
     "languageId": "r"
    }
   },
   "outputs": [
    {
     "data": {
      "image/png": "[encoded data removed]",
      "text/plain": [
       "Plot with title \"Partial Dependence on ph\""
      ]
     },
     "metadata": {
      "image/png": {
       "height": 420,
       "width": 420
      }
     },
     "output_type": "display_data"
    }
   ],
   "source": [
    "partialPlot(rf.model, test_set, ph, 1)"
   ]
  },
  {
   "cell_type": "markdown",
   "metadata": {},
   "source": [
    "The above plots tell us that, coming to the potability of drinking water, pH levels of approximately 5 to 8 are acceptable according to our model. The **World Health Organisastion** states that though pH has nodirect impact on water consumers, it is an important water quality parameter to ensure satisfactory water clarification and disinfection. The optimum value provided to us by them is in the range of 6.5 to 9.5, which our model has a definite amount of overlap with.\n",
    "[Source](https://cdn.who.int/media/docs/default-source/wash-documents/wash-chemicals/ph.pdf)\n",
    "\n",
    "#### The effects of Hardness on drinking water potability\n",
    "\n",
    "We finally look at our third most significant Variable in the context of potable water samples for both training and testing sets."
   ]
  },
  {
   "cell_type": "code",
   "execution_count": 42,
   "metadata": {
    "vscode": {
     "languageId": "r"
    }
   },
   "outputs": [
    {
     "data": {
      "image/png": "[encoded data removed]",
      "text/plain": [
       "Plot with title \"Partial Dependence on Hardness\""
      ]
     },
     "metadata": {
      "image/png": {
       "height": 420,
       "width": 420
      }
     },
     "output_type": "display_data"
    }
   ],
   "source": [
    "partialPlot(rf.model, train_set, Hardness, 1)"
   ]
  },
  {
   "cell_type": "code",
   "execution_count": 43,
   "metadata": {
    "vscode": {
     "languageId": "r"
    }
   },
   "outputs": [
    {
     "data": {
      "image/png": "[encoded data removed]",
      "text/plain": [
       "Plot with title \"Partial Dependence on Hardness\""
      ]
     },
     "metadata": {
      "image/png": {
       "height": 420,
       "width": 420
      }
     },
     "output_type": "display_data"
    }
   ],
   "source": [
    "partialPlot(rf.model, test_set, Hardness, 1)"
   ]
  },
  {
   "cell_type": "markdown",
   "metadata": {},
   "source": [
    "According to our model, a hardness level between 150 to 250 mg/L shows that a given sample of water is not-potable. We know that hardness is the capability of water to react with soap. Hardness is usually caused by a variety of dissolved metallic ions, predominantly calcium and Magnesium along with other cations.\n",
    "\n",
    "According to the WHO, Concentrations of Calcium upto 100mg/L is usually seen in natural sources of water, with sources containing more than 200mg/L of Calcium being rare. **In drinking water, hardness attributed to Calcium Carbonate is in the range of 10-500mg**. [Source](https://cdn.who.int/media/docs/default-source/wash-documents/wash-chemicals/hardness2003.pdf).\n",
    "\n",
    "If we notice our model's prediction we see that the given range of 150-250 mg/L coincides with the range of calcium concentration given by the WHO of 100-200mg/L, which to a certain extent confirms a lot of our samples are naturally sourced, but it also tells us that a lot of these natural water bodies are not potable, which tells us that the other variables at play could have a hand in this.\n",
    "\n",
    "These variables are the top three most important variables of this model. Looking into the other variables as well would give us a better insight into how they individually have a hand in the potability of our samples, but for the time being we will be looking into these statistics."
   ]
  },
  {
   "cell_type": "markdown",
   "metadata": {},
   "source": [
    "#### 80/20 Split"
   ]
  },
  {
   "cell_type": "code",
   "execution_count": 44,
   "metadata": {
    "vscode": {
     "languageId": "r"
    }
   },
   "outputs": [],
   "source": [
    "set.seed(530)\n",
    "indices <- sample(1:nrow(water.quality), 0.8 * nrow(water.quality), replace = FALSE)\n",
    "train_set <- water.quality[indices, ]\n",
    "test_set <- water.quality[-indices, ]"
   ]
  },
  {
   "cell_type": "code",
   "execution_count": 45,
   "metadata": {
    "vscode": {
     "languageId": "r"
    }
   },
   "outputs": [
    {
     "name": "stdout",
     "output_type": "stream",
     "text": [
      "\n",
      "Call:\n",
      " randomForest(formula = factor(Potability) ~ ., data = train_set,      ntree = 500, mtry = 3, importance = TRUE) \n",
      "               Type of random forest: classification\n",
      "                     Number of trees: 500\n",
      "No. of variables tried at each split: 3\n",
      "\n",
      "        OOB estimate of  error rate: 28.47%\n",
      "Confusion matrix:\n",
      "     0   1 class.error\n",
      "0 1419 189   0.1175373\n",
      "1  557 455   0.5503953\n"
     ]
    }
   ],
   "source": [
    "set.seed(530)\n",
    "rf.model <- randomForest(factor(Potability) ~ ., data = train_set, ntree = 500, mtry = 3, importance = TRUE)\n",
    "print(rf.model)"
   ]
  },
  {
   "cell_type": "markdown",
   "metadata": {},
   "source": [
    "Seeing our model above, our out of bag (OOB) error is 28.47%, which is marginally better than the 50/50 split model."
   ]
  },
  {
   "cell_type": "code",
   "execution_count": 46,
   "metadata": {
    "vscode": {
     "languageId": "r"
    }
   },
   "outputs": [
    {
     "data": {
      "text/plain": [
       "Confusion Matrix and Statistics\n",
       "\n",
       "          Reference\n",
       "Prediction    0    1\n",
       "         0 1608    0\n",
       "         1    0 1012\n",
       "                                     \n",
       "               Accuracy : 1          \n",
       "                 95% CI : (0.9986, 1)\n",
       "    No Information Rate : 0.6137     \n",
       "    P-Value [Acc > NIR] : < 2.2e-16  \n",
       "                                     \n",
       "                  Kappa : 1          \n",
       "                                     \n",
       " Mcnemar's Test P-Value : NA         \n",
       "                                     \n",
       "            Sensitivity : 1.0000     \n",
       "            Specificity : 1.0000     \n",
       "         Pos Pred Value : 1.0000     \n",
       "         Neg Pred Value : 1.0000     \n",
       "             Prevalence : 0.6137     \n",
       "         Detection Rate : 0.6137     \n",
       "   Detection Prevalence : 0.6137     \n",
       "      Balanced Accuracy : 1.0000     \n",
       "                                     \n",
       "       'Positive' Class : 0          \n",
       "                                     "
      ]
     },
     "metadata": {},
     "output_type": "display_data"
    }
   ],
   "source": [
    "predictions <- predict(rf.model, train_set)\n",
    "confusionMatrix(predictions, as.factor(train_set$Potability))"
   ]
  },
  {
   "cell_type": "code",
   "execution_count": 47,
   "metadata": {
    "vscode": {
     "languageId": "r"
    }
   },
   "outputs": [
    {
     "data": {
      "text/plain": [
       "Confusion Matrix and Statistics\n",
       "\n",
       "          Reference\n",
       "Prediction   0   1\n",
       "         0 350 138\n",
       "         1  40 128\n",
       "                                          \n",
       "               Accuracy : 0.7287          \n",
       "                 95% CI : (0.6929, 0.7624)\n",
       "    No Information Rate : 0.5945          \n",
       "    P-Value [Acc > NIR] : 4.989e-13       \n",
       "                                          \n",
       "                  Kappa : 0.4022          \n",
       "                                          \n",
       " Mcnemar's Test P-Value : 3.583e-13       \n",
       "                                          \n",
       "            Sensitivity : 0.8974          \n",
       "            Specificity : 0.4812          \n",
       "         Pos Pred Value : 0.7172          \n",
       "         Neg Pred Value : 0.7619          \n",
       "             Prevalence : 0.5945          \n",
       "         Detection Rate : 0.5335          \n",
       "   Detection Prevalence : 0.7439          \n",
       "      Balanced Accuracy : 0.6893          \n",
       "                                          \n",
       "       'Positive' Class : 0               \n",
       "                                          "
      ]
     },
     "metadata": {},
     "output_type": "display_data"
    }
   ],
   "source": [
    "predictions <- predict(rf.model, test_set)\n",
    "confusionMatrix(predictions, as.factor(test_set$Potability))"
   ]
  },
  {
   "cell_type": "markdown",
   "metadata": {},
   "source": [
    "Our model has an accuracy of 72.87% with the testing set!\n",
    "\n",
    "#### AUC/ROC Curves"
   ]
  },
  {
   "cell_type": "code",
   "execution_count": 48,
   "metadata": {
    "vscode": {
     "languageId": "r"
    }
   },
   "outputs": [
    {
     "name": "stderr",
     "output_type": "stream",
     "text": [
      "Setting levels: control = 0, case = 1\n",
      "\n",
      "Setting direction: controls < cases\n",
      "\n"
     ]
    },
    {
     "data": {
      "text/plain": [
       "\n",
       "Call:\n",
       "roc.default(response = train_set$Potability, predictor = predictions)\n",
       "\n",
       "Data: predictions in 1608 controls (train_set$Potability 0) < 1012 cases (train_set$Potability 1).\n",
       "Area under the curve: 1"
      ]
     },
     "metadata": {},
     "output_type": "display_data"
    },
    {
     "data": {
      "image/png": "[encoded data removed]",
      "text/plain": [
       "Plot with title \"Train ROC\""
      ]
     },
     "metadata": {
      "image/png": {
       "height": 420,
       "width": 420
      }
     },
     "output_type": "display_data"
    }
   ],
   "source": [
    "predictions <- as.numeric(predict(rf.model, train_set))\n",
    "train.roc <- roc(train_set$Potability, predictions)\n",
    "plot.roc(train.roc, main=\"Train ROC\", col=par(\"fg\"), plot=TRUE, print.auc=TRUE, legacy.axes=FALSE, asp =NA)\n",
    "train.roc"
   ]
  },
  {
   "cell_type": "code",
   "execution_count": 49,
   "metadata": {
    "vscode": {
     "languageId": "r"
    }
   },
   "outputs": [
    {
     "name": "stderr",
     "output_type": "stream",
     "text": [
      "Setting levels: control = 0, case = 1\n",
      "\n",
      "Setting direction: controls < cases\n",
      "\n"
     ]
    },
    {
     "data": {
      "text/plain": [
       "\n",
       "Call:\n",
       "roc.default(response = test_set$Potability, predictor = predictions)\n",
       "\n",
       "Data: predictions in 390 controls (test_set$Potability 0) < 266 cases (test_set$Potability 1).\n",
       "Area under the curve: 0.6874"
      ]
     },
     "metadata": {},
     "output_type": "display_data"
    },
    {
     "data": {
      "image/png": "[encoded data removed]",
      "text/plain": [
       "Plot with title \"Test ROC\""
      ]
     },
     "metadata": {
      "image/png": {
       "height": 420,
       "width": 420
      }
     },
     "output_type": "display_data"
    }
   ],
   "source": [
    "predictions <- as.numeric(predict(rf.model, test_set))\n",
    "test.roc <- roc(test_set$Potability, predictions)\n",
    "plot.roc(test.roc, main=\"Test ROC\", col=par(\"fg\"), plot=TRUE, print.auc=TRUE, legacy.axes=FALSE, asp =NA)\n",
    "test.roc"
   ]
  },
  {
   "cell_type": "markdown",
   "metadata": {},
   "source": [
    "Below we have the error rates (MSE) of the random forest model above"
   ]
  },
  {
   "cell_type": "code",
   "execution_count": 50,
   "metadata": {
    "vscode": {
     "languageId": "r"
    }
   },
   "outputs": [
    {
     "data": {
      "image/png": "[encoded data removed]",
      "text/plain": [
       "Plot with title \"rf.model\""
      ]
     },
     "metadata": {
      "image/png": {
       "height": 420,
       "width": 420
      }
     },
     "output_type": "display_data"
    }
   ],
   "source": [
    "plot(rf.model)"
   ]
  },
  {
   "cell_type": "code",
   "execution_count": 51,
   "metadata": {
    "vscode": {
     "languageId": "r"
    }
   },
   "outputs": [
    {
     "name": "stdout",
     "output_type": "stream",
     "text": [
      "mtry = 3  OOB error = 28.97% \n",
      "Searching left ...\n",
      "mtry = 2 \tOOB error = 29.69% \n",
      "-0.02503294 1e-20 \n",
      "Searching right ...\n",
      "mtry = 4 \tOOB error = 28.05% \n",
      "0.03162055 1e-20 \n",
      "mtry = 6 \tOOB error = 29.35% \n",
      "-0.0462585 1e-20 \n"
     ]
    },
    {
     "data": {
      "text/html": [
       "<table class=\"dataframe\">\n",
       "<caption>A matrix: 4 × 2 of type dbl</caption>\n",
       "<thead>\n",
       "\t<tr><th></th><th scope=col>mtry</th><th scope=col>OOBError</th></tr>\n",
       "</thead>\n",
       "<tbody>\n",
       "\t<tr><th scope=row>2.OOB</th><td>2</td><td>0.2969466</td></tr>\n",
       "\t<tr><th scope=row>3.OOB</th><td>3</td><td>0.2896947</td></tr>\n",
       "\t<tr><th scope=row>4.OOB</th><td>4</td><td>0.2805344</td></tr>\n",
       "\t<tr><th scope=row>6.OOB</th><td>6</td><td>0.2935115</td></tr>\n",
       "</tbody>\n",
       "</table>\n"
      ],
      "text/latex": [
       "A matrix: 4 × 2 of type dbl\n",
       "\\begin{tabular}{r|ll}\n",
       "  & mtry & OOBError\\\\\n",
       "\\hline\n",
       "\t2.OOB & 2 & 0.2969466\\\\\n",
       "\t3.OOB & 3 & 0.2896947\\\\\n",
       "\t4.OOB & 4 & 0.2805344\\\\\n",
       "\t6.OOB & 6 & 0.2935115\\\\\n",
       "\\end{tabular}\n"
      ],
      "text/markdown": [
       "\n",
       "A matrix: 4 × 2 of type dbl\n",
       "\n",
       "| <!--/--> | mtry | OOBError |\n",
       "|---|---|---|\n",
       "| 2.OOB | 2 | 0.2969466 |\n",
       "| 3.OOB | 3 | 0.2896947 |\n",
       "| 4.OOB | 4 | 0.2805344 |\n",
       "| 6.OOB | 6 | 0.2935115 |\n",
       "\n"
      ],
      "text/plain": [
       "      mtry OOBError \n",
       "2.OOB 2    0.2969466\n",
       "3.OOB 3    0.2896947\n",
       "4.OOB 4    0.2805344\n",
       "6.OOB 6    0.2935115"
      ]
     },
     "metadata": {},
     "output_type": "display_data"
    },
    {
     "data": {
      "image/png": "[encoded data removed]",
      "text/plain": [
       "plot without title"
      ]
     },
     "metadata": {
      "image/png": {
       "height": 420,
       "width": 420
      }
     },
     "output_type": "display_data"
    }
   ],
   "source": [
    "set.seed(530)\n",
    "tuneRF(train_set[, -10], as.factor(train_set[, 10]), stepFactor=1.5, improve=1e-20, ntreeTry=500, plot=TRUE, trace=TRUE)"
   ]
  },
  {
   "cell_type": "markdown",
   "metadata": {},
   "source": [
    "Using the graph above we can see that we get a minimum error value at an mtry value of approximately 4. Using a value in that ballpark to train our model we get the following results."
   ]
  },
  {
   "cell_type": "code",
   "execution_count": 52,
   "metadata": {
    "vscode": {
     "languageId": "r"
    }
   },
   "outputs": [
    {
     "name": "stdout",
     "output_type": "stream",
     "text": [
      "\n",
      "Call:\n",
      " randomForest(formula = factor(Potability) ~ ., data = train_set,      ntree = 500, mtry = 5, importance = TRUE) \n",
      "               Type of random forest: classification\n",
      "                     Number of trees: 500\n",
      "No. of variables tried at each split: 5\n",
      "\n",
      "        OOB estimate of  error rate: 28.05%\n",
      "Confusion matrix:\n",
      "     0   1 class.error\n",
      "0 1404 204   0.1268657\n",
      "1  531 481   0.5247036\n"
     ]
    }
   ],
   "source": [
    "set.seed(530)\n",
    "rf.model <- randomForest(factor(Potability) ~ ., data = train_set, ntree = 500, mtry = 5, importance = TRUE)\n",
    "print(rf.model)"
   ]
  },
  {
   "cell_type": "code",
   "execution_count": 53,
   "metadata": {
    "vscode": {
     "languageId": "r"
    }
   },
   "outputs": [
    {
     "data": {
      "text/plain": [
       "Confusion Matrix and Statistics\n",
       "\n",
       "          Reference\n",
       "Prediction    0    1\n",
       "         0 1608    0\n",
       "         1    0 1012\n",
       "                                     \n",
       "               Accuracy : 1          \n",
       "                 95% CI : (0.9986, 1)\n",
       "    No Information Rate : 0.6137     \n",
       "    P-Value [Acc > NIR] : < 2.2e-16  \n",
       "                                     \n",
       "                  Kappa : 1          \n",
       "                                     \n",
       " Mcnemar's Test P-Value : NA         \n",
       "                                     \n",
       "            Sensitivity : 1.0000     \n",
       "            Specificity : 1.0000     \n",
       "         Pos Pred Value : 1.0000     \n",
       "         Neg Pred Value : 1.0000     \n",
       "             Prevalence : 0.6137     \n",
       "         Detection Rate : 0.6137     \n",
       "   Detection Prevalence : 0.6137     \n",
       "      Balanced Accuracy : 1.0000     \n",
       "                                     \n",
       "       'Positive' Class : 0          \n",
       "                                     "
      ]
     },
     "metadata": {},
     "output_type": "display_data"
    }
   ],
   "source": [
    "predictions <- predict(rf.model, train_set)\n",
    "confusionMatrix(predictions, as.factor(train_set$Potability))"
   ]
  },
  {
   "cell_type": "code",
   "execution_count": 54,
   "metadata": {
    "vscode": {
     "languageId": "r"
    }
   },
   "outputs": [
    {
     "data": {
      "text/plain": [
       "Confusion Matrix and Statistics\n",
       "\n",
       "          Reference\n",
       "Prediction   0   1\n",
       "         0 341 131\n",
       "         1  49 135\n",
       "                                          \n",
       "               Accuracy : 0.7256          \n",
       "                 95% CI : (0.6897, 0.7594)\n",
       "    No Information Rate : 0.5945          \n",
       "    P-Value [Acc > NIR] : 1.672e-12       \n",
       "                                          \n",
       "                  Kappa : 0.4016          \n",
       "                                          \n",
       " Mcnemar's Test P-Value : 1.566e-09       \n",
       "                                          \n",
       "            Sensitivity : 0.8744          \n",
       "            Specificity : 0.5075          \n",
       "         Pos Pred Value : 0.7225          \n",
       "         Neg Pred Value : 0.7337          \n",
       "             Prevalence : 0.5945          \n",
       "         Detection Rate : 0.5198          \n",
       "   Detection Prevalence : 0.7195          \n",
       "      Balanced Accuracy : 0.6909          \n",
       "                                          \n",
       "       'Positive' Class : 0               \n",
       "                                          "
      ]
     },
     "metadata": {},
     "output_type": "display_data"
    }
   ],
   "source": [
    "predictions <- predict(rf.model, test_set)\n",
    "confusionMatrix(predictions, as.factor(test_set$Potability))"
   ]
  },
  {
   "cell_type": "markdown",
   "metadata": {},
   "source": [
    "#### AUC/ROC Curve\n",
    "\n",
    "In this case, we are checking the ROC curve for updated 80/20 model with the testing dataset  "
   ]
  },
  {
   "cell_type": "code",
   "execution_count": 55,
   "metadata": {
    "vscode": {
     "languageId": "r"
    }
   },
   "outputs": [
    {
     "name": "stderr",
     "output_type": "stream",
     "text": [
      "Setting levels: control = 0, case = 1\n",
      "\n",
      "Setting direction: controls < cases\n",
      "\n"
     ]
    },
    {
     "data": {
      "text/plain": [
       "\n",
       "Call:\n",
       "roc.default(response = test_set$Potability, predictor = predictions)\n",
       "\n",
       "Data: predictions in 390 controls (test_set$Potability 0) < 266 cases (test_set$Potability 1).\n",
       "Area under the curve: 0.6922"
      ]
     },
     "metadata": {},
     "output_type": "display_data"
    },
    {
     "data": {
      "image/png": "[encoded data removed]",
      "text/plain": [
       "Plot with title \"Test ROC\""
      ]
     },
     "metadata": {
      "image/png": {
       "height": 420,
       "width": 420
      }
     },
     "output_type": "display_data"
    }
   ],
   "source": [
    "predictions <- as.numeric(predict(rf.model, test_set))\n",
    "test.roc <- roc(test_set$Potability, predictions)\n",
    "plot.roc(test.roc, main=\"Test ROC\", col=par(\"fg\"), plot=TRUE, print.auc=TRUE, legacy.axes=FALSE, asp =NA)\n",
    "test.roc"
   ]
  },
  {
   "cell_type": "code",
   "execution_count": 56,
   "metadata": {
    "vscode": {
     "languageId": "r"
    }
   },
   "outputs": [
    {
     "data": {
      "image/png": "[encoded data removed]",
      "text/plain": [
       "Plot with title \"No. of Nodes for the Trees\""
      ]
     },
     "metadata": {
      "image/png": {
       "height": 420,
       "width": 420
      }
     },
     "output_type": "display_data"
    }
   ],
   "source": [
    "hist(treesize(rf.model), main = \"No. of Nodes for the Trees\", col = \"lightblue\")"
   ]
  },
  {
   "cell_type": "markdown",
   "metadata": {},
   "source": [
    "### Confirmation of Variable Importance"
   ]
  },
  {
   "cell_type": "code",
   "execution_count": 57,
   "metadata": {
    "vscode": {
     "languageId": "r"
    }
   },
   "outputs": [
    {
     "data": {
      "text/html": [
       "<table class=\"dataframe\">\n",
       "<caption>A matrix: 9 × 4 of type dbl</caption>\n",
       "<thead>\n",
       "\t<tr><th></th><th scope=col>0</th><th scope=col>1</th><th scope=col>MeanDecreaseAccuracy</th><th scope=col>MeanDecreaseGini</th></tr>\n",
       "</thead>\n",
       "<tbody>\n",
       "\t<tr><th scope=row>ph</th><td>59.071585</td><td>36.43416448</td><td>65.118922</td><td>187.7402</td></tr>\n",
       "\t<tr><th scope=row>Hardness</th><td>39.421144</td><td> 4.51052083</td><td>34.643603</td><td>152.8770</td></tr>\n",
       "\t<tr><th scope=row>Solids</th><td> 8.376582</td><td>27.31978624</td><td>23.637454</td><td>141.8695</td></tr>\n",
       "\t<tr><th scope=row>Chloramines</th><td>20.216547</td><td>14.88846084</td><td>24.568680</td><td>143.7348</td></tr>\n",
       "\t<tr><th scope=row>Sulfate</th><td>50.922190</td><td>50.24900737</td><td>68.331330</td><td>193.2072</td></tr>\n",
       "\t<tr><th scope=row>Conductivity</th><td> 3.135922</td><td> 0.63078744</td><td> 2.932918</td><td>109.2007</td></tr>\n",
       "\t<tr><th scope=row>Organic_carbon</th><td> 4.310666</td><td>-2.23376543</td><td> 1.900023</td><td>105.5639</td></tr>\n",
       "\t<tr><th scope=row>Trihalomethanes</th><td> 1.253763</td><td> 1.84478335</td><td> 2.172669</td><td>103.3332</td></tr>\n",
       "\t<tr><th scope=row>Turbidity</th><td> 4.398661</td><td>-0.05341115</td><td> 3.325532</td><td>104.5934</td></tr>\n",
       "</tbody>\n",
       "</table>\n"
      ],
      "text/latex": [
       "A matrix: 9 × 4 of type dbl\n",
       "\\begin{tabular}{r|llll}\n",
       "  & 0 & 1 & MeanDecreaseAccuracy & MeanDecreaseGini\\\\\n",
       "\\hline\n",
       "\tph & 59.071585 & 36.43416448 & 65.118922 & 187.7402\\\\\n",
       "\tHardness & 39.421144 &  4.51052083 & 34.643603 & 152.8770\\\\\n",
       "\tSolids &  8.376582 & 27.31978624 & 23.637454 & 141.8695\\\\\n",
       "\tChloramines & 20.216547 & 14.88846084 & 24.568680 & 143.7348\\\\\n",
       "\tSulfate & 50.922190 & 50.24900737 & 68.331330 & 193.2072\\\\\n",
       "\tConductivity &  3.135922 &  0.63078744 &  2.932918 & 109.2007\\\\\n",
       "\tOrganic\\_carbon &  4.310666 & -2.23376543 &  1.900023 & 105.5639\\\\\n",
       "\tTrihalomethanes &  1.253763 &  1.84478335 &  2.172669 & 103.3332\\\\\n",
       "\tTurbidity &  4.398661 & -0.05341115 &  3.325532 & 104.5934\\\\\n",
       "\\end{tabular}\n"
      ],
      "text/markdown": [
       "\n",
       "A matrix: 9 × 4 of type dbl\n",
       "\n",
       "| <!--/--> | 0 | 1 | MeanDecreaseAccuracy | MeanDecreaseGini |\n",
       "|---|---|---|---|---|\n",
       "| ph | 59.071585 | 36.43416448 | 65.118922 | 187.7402 |\n",
       "| Hardness | 39.421144 |  4.51052083 | 34.643603 | 152.8770 |\n",
       "| Solids |  8.376582 | 27.31978624 | 23.637454 | 141.8695 |\n",
       "| Chloramines | 20.216547 | 14.88846084 | 24.568680 | 143.7348 |\n",
       "| Sulfate | 50.922190 | 50.24900737 | 68.331330 | 193.2072 |\n",
       "| Conductivity |  3.135922 |  0.63078744 |  2.932918 | 109.2007 |\n",
       "| Organic_carbon |  4.310666 | -2.23376543 |  1.900023 | 105.5639 |\n",
       "| Trihalomethanes |  1.253763 |  1.84478335 |  2.172669 | 103.3332 |\n",
       "| Turbidity |  4.398661 | -0.05341115 |  3.325532 | 104.5934 |\n",
       "\n"
      ],
      "text/plain": [
       "                0         1           MeanDecreaseAccuracy MeanDecreaseGini\n",
       "ph              59.071585 36.43416448 65.118922            187.7402        \n",
       "Hardness        39.421144  4.51052083 34.643603            152.8770        \n",
       "Solids           8.376582 27.31978624 23.637454            141.8695        \n",
       "Chloramines     20.216547 14.88846084 24.568680            143.7348        \n",
       "Sulfate         50.922190 50.24900737 68.331330            193.2072        \n",
       "Conductivity     3.135922  0.63078744  2.932918            109.2007        \n",
       "Organic_carbon   4.310666 -2.23376543  1.900023            105.5639        \n",
       "Trihalomethanes  1.253763  1.84478335  2.172669            103.3332        \n",
       "Turbidity        4.398661 -0.05341115  3.325532            104.5934        "
      ]
     },
     "metadata": {},
     "output_type": "display_data"
    },
    {
     "data": {
      "image/png": "[encoded data removed]",
      "text/plain": [
       "plot without title"
      ]
     },
     "metadata": {
      "image/png": {
       "height": 420,
       "width": 420
      }
     },
     "output_type": "display_data"
    }
   ],
   "source": [
    "importance(rf.model)\n",
    "varImpPlot(rf.model, sort=TRUE, n.var=9, main=\"Most important variables in our dataset\")"
   ]
  },
  {
   "cell_type": "markdown",
   "metadata": {},
   "source": [
    "The order of importance of our top three variables remain the same as the model trained with a 50/50 split, with some observed variations in the rest of the variables.\n",
    "\n",
    "Let's focus on the partial dependence of Sulfate and pH levels again to confirm our hypotheses."
   ]
  },
  {
   "cell_type": "code",
   "execution_count": 58,
   "metadata": {
    "vscode": {
     "languageId": "r"
    }
   },
   "outputs": [
    {
     "data": {
      "image/png": "[encoded data removed]",
      "text/plain": [
       "Plot with title \"Partial Dependence on Sulfate\""
      ]
     },
     "metadata": {
      "image/png": {
       "height": 420,
       "width": 420
      }
     },
     "output_type": "display_data"
    }
   ],
   "source": [
    "partialPlot(rf.model, train_set, Sulfate, 1)"
   ]
  },
  {
   "cell_type": "code",
   "execution_count": 59,
   "metadata": {
    "vscode": {
     "languageId": "r"
    }
   },
   "outputs": [
    {
     "data": {
      "image/png": "[encoded data removed]",
      "text/plain": [
       "Plot with title \"Partial Dependence on Sulfate\""
      ]
     },
     "metadata": {
      "image/png": {
       "height": 420,
       "width": 420
      }
     },
     "output_type": "display_data"
    }
   ],
   "source": [
    "partialPlot(rf.model, test_set, Sulfate, 1)"
   ]
  },
  {
   "cell_type": "markdown",
   "metadata": {},
   "source": [
    "The sulfate values more or less match the values given by our previous model.\n",
    "\n",
    "Moving onto the pH value"
   ]
  },
  {
   "cell_type": "code",
   "execution_count": 60,
   "metadata": {
    "vscode": {
     "languageId": "r"
    }
   },
   "outputs": [
    {
     "data": {
      "image/png": "[encoded data removed]",
      "text/plain": [
       "Plot with title \"Partial Dependence on ph\""
      ]
     },
     "metadata": {
      "image/png": {
       "height": 420,
       "width": 420
      }
     },
     "output_type": "display_data"
    }
   ],
   "source": [
    "partialPlot(rf.model, train_set, ph, 1)"
   ]
  },
  {
   "cell_type": "code",
   "execution_count": 61,
   "metadata": {
    "vscode": {
     "languageId": "r"
    }
   },
   "outputs": [
    {
     "data": {
      "image/png": "[encoded data removed]",
      "text/plain": [
       "Plot with title \"Partial Dependence on ph\""
      ]
     },
     "metadata": {
      "image/png": {
       "height": 420,
       "width": 420
      }
     },
     "output_type": "display_data"
    }
   ],
   "source": [
    "partialPlot(rf.model, test_set, ph, 1)"
   ]
  },
  {
   "cell_type": "markdown",
   "metadata": {},
   "source": [
    "For this split, we see a sharp increase at the 4.5 to 8 mark of pH level with tells us that the given range has a high amount of coincidence with potable water samples. It does differ a bit from our previous model but still had a good amount of overlap with the information provided to us by the World Health Organisation. "
   ]
  },
  {
   "cell_type": "code",
   "execution_count": 62,
   "metadata": {
    "vscode": {
     "languageId": "r"
    }
   },
   "outputs": [
    {
     "data": {
      "image/png": "[encoded data removed]",
      "text/plain": [
       "Plot with title \"Partial Dependence on Hardness\""
      ]
     },
     "metadata": {
      "image/png": {
       "height": 420,
       "width": 420
      }
     },
     "output_type": "display_data"
    }
   ],
   "source": [
    "partialPlot(rf.model, train_set, Hardness, 1)"
   ]
  },
  {
   "cell_type": "code",
   "execution_count": 63,
   "metadata": {
    "vscode": {
     "languageId": "r"
    }
   },
   "outputs": [
    {
     "data": {
      "image/png": "[encoded data removed]",
      "text/plain": [
       "Plot with title \"Partial Dependence on Hardness\""
      ]
     },
     "metadata": {
      "image/png": {
       "height": 420,
       "width": 420
      }
     },
     "output_type": "display_data"
    }
   ],
   "source": [
    "partialPlot(rf.model, test_set, Hardness, 1)"
   ]
  },
  {
   "cell_type": "markdown",
   "metadata": {},
   "source": [
    "According to this model the general trend is that the potability of the water samples go down from the 100mg/L mark to 200mg/L mark, with it increasing again from the 200mg/L mark to 300mg/L. This shows that for extremely low or high values of hardness, our water samples are most probably potable. However, we should not take these number at face value as they are many other factors at play that could be contributing to the poor drinking water quality.\n",
    "\n",
    "Another interesting observation is that, the source of this dataset has not given us any information about whether the water bodies from which this information was obtained were naturally occurring or not. The range for non-potable samples pf water here, again, coincides with the values provided by the WHO ([Same source as before](https://cdn.who.int/media/docs/default-source/wash-documents/wash-chemicals/hardness2003.pdf)) for naturally occurring water bodies which could tell us that the naturally occurring sources of water are not considered potable by default. So, there could either be samples from artificial sources of water like water treatment plants, or samples from natural sources of water line ground water that could have gone through some amount of treatment which would be the reason why values outside this range have a higher coincidence with the potability of the water sample."
   ]
  },
  {
   "cell_type": "markdown",
   "metadata": {},
   "source": [
    "## Model: CART (Classification Trees)\n",
    "\n",
    "Our CART model works best with the NA values removed, so we will be doing just that before proceeding with working on the dataset."
   ]
  },
  {
   "cell_type": "code",
   "execution_count": 71,
   "metadata": {
    "vscode": {
     "languageId": "r"
    }
   },
   "outputs": [],
   "source": [
    "water.quality_na_dropped <- na.omit(water.quality_original)"
   ]
  },
  {
   "cell_type": "code",
   "execution_count": 72,
   "metadata": {
    "vscode": {
     "languageId": "r"
    }
   },
   "outputs": [],
   "source": [
    "# Split the data into training (80%) and testing (20%) sets\n",
    "set.seed(530) # for reproducibility\n",
    "train_index_80 <- createDataPartition(water.quality_na_dropped$Potability, p = 0.8, list = FALSE)\n",
    "train_data_80 <- water.quality_na_dropped[train_index_80, ]\n",
    "test_data_80 <- water.quality_na_dropped[-train_index_80, ]"
   ]
  },
  {
   "cell_type": "code",
   "execution_count": 73,
   "metadata": {
    "vscode": {
     "languageId": "r"
    }
   },
   "outputs": [],
   "source": [
    "set.seed(530) # for reproducibility\n",
    "train_index_50 <- createDataPartition(water.quality_na_dropped$Potability, p = 0.5, list = FALSE)\n",
    "train_data_50 <- water.quality_na_dropped[train_index_50, ]\n",
    "test_data_50 <- water.quality_na_dropped[-train_index_50, ]"
   ]
  },
  {
   "cell_type": "code",
   "execution_count": 74,
   "metadata": {
    "vscode": {
     "languageId": "r"
    }
   },
   "outputs": [],
   "source": [
    "# Function to train and evaluate CART model\n",
    "train_and_evaluate_CART <- function(train_data, test_data) {\n",
    "  # Train the CART model\n",
    "  cart_model <- rpart(Potability ~ ., data = train_data, method = \"class\")\n",
    "  \n",
    "  # Display the CART model\n",
    "  print(\"CART Model:\")\n",
    "  print(cart_model)\n",
    "  \n",
    "  # Plot the CART model\n",
    "  print(\"Plot of the CART Model:\")\n",
    "  rpart.plot(cart_model)\n",
    "  \n",
    "  # Predictions on the training data\n",
    "  train_predictions <- predict(cart_model, train_data, type = \"class\")\n",
    "  \n",
    "  # Calculate training accuracy\n",
    "  train_accuracy <- mean(train_predictions == train_data$Potability)\n",
    "  print(paste(\"Training Accuracy:\", train_accuracy))\n",
    "  \n",
    "  # Predictions on the testing data\n",
    "  test_predictions <- predict(cart_model, test_data, type = \"class\")\n",
    "  \n",
    "  # Calculate testing accuracy\n",
    "  test_accuracy <- mean(test_predictions == test_data$Potability)\n",
    "  print(paste(\"Testing Accuracy:\", test_accuracy))\n",
    "  \n",
    "  # Other metrics (e.g., confusion matrix)\n",
    "  confusion_matrix <- table(test_data$Potability, test_predictions)\n",
    "  print(\"Confusion Matrix:\")\n",
    "  print(confusion_matrix)\n",
    "  \n",
    "  # Calculate sensitivity, specificity, PPV, NPV for testing data\n",
    "  TP <- confusion_matrix[2, 2]\n",
    "  TN <- confusion_matrix[1, 1]\n",
    "  FP <- confusion_matrix[1, 2]\n",
    "  FN <- confusion_matrix[2, 1]\n",
    "  \n",
    "  sensitivity <- TP / (TP + FN) * 100\n",
    "  specificity <- TN / (TN + FP) * 100\n",
    "  PPV <- TP / (TP + FP) * 100\n",
    "  NPV <- TN / (TN + FN) * 100\n",
    "  \n",
    "  print(paste(\"Testing Dataset:\"))\n",
    "  print(paste(\"Accuracy:\", paste(round(test_accuracy * 100, 2), \"%\", sep = \"\")))\n",
    "  print(paste(\"Sensitivity:\", paste(round(sensitivity, 2), \"%\", sep = \"\")))\n",
    "  print(paste(\"Specificity:\", paste(round(specificity, 2), \"%\", sep = \"\")))\n",
    "  print(paste(\"PPV:\", paste(round(PPV, 2), \"%\", sep = \"\")))\n",
    "  print(paste(\"NPV:\", paste(round(NPV, 2), \"%\", sep = \"\")))\n",
    "  \n",
    "  # Calculate sensitivity, specificity, PPV, NPV for training data\n",
    "  TP_train <- sum(train_data$Potability[train_predictions == \"1\"])\n",
    "  TN_train <- sum(train_data$Potability[train_predictions == \"0\"] == \"0\")\n",
    "  FP_train <- sum(train_data$Potability[train_predictions == \"1\"] == \"0\")\n",
    "  FN_train <- sum(train_data$Potability[train_predictions == \"0\"])\n",
    "  \n",
    "  sensitivity_train <- TP_train / (TP_train + FN_train) * 100\n",
    "  specificity_train <- TN_train / (TN_train + FP_train) * 100\n",
    "  PPV_train <- TP_train / (TP_train + FP_train) * 100\n",
    "  NPV_train <- TN_train / (TN_train + FN_train) * 100\n",
    "  \n",
    "  print(paste(\"Training Dataset:\"))\n",
    "  print(paste(\"Accuracy:\", paste(round(train_accuracy * 100, 2), \"%\", sep = \"\")))\n",
    "  print(paste(\"Sensitivity:\", paste(round(sensitivity_train, 2), \"%\", sep = \"\")))\n",
    "  print(paste(\"Specificity:\", paste(round(specificity_train, 2), \"%\", sep = \"\")))\n",
    "  print(paste(\"PPV:\", paste(round(PPV_train, 2), \"%\", sep = \"\")))\n",
    "  print(paste(\"NPV:\", paste(round(NPV_train, 2), \"%\", sep = \"\")))\n",
    "  \n",
    "  # AUC and ROC curve\n",
    "  pred <- predict(cart_model, test_data, type=\"prob\")[,2]\n",
    "  roc_obj <- prediction(pred, test_data$Potability)\n",
    "  perf <- performance(roc_obj, \"tpr\", \"fpr\")\n",
    "  auc <- performance(roc_obj, \"auc\")\n",
    "  \n",
    "  plot(perf, main=\"ROC Curve\", col=\"blue\", lwd=2)\n",
    "  abline(a=0, b=1, lwd=2, lty=2, col=\"gray\")\n",
    "  print(paste(\"AUC:\", auc@y.values[[1]]))\n",
    "}"
   ]
  },
  {
   "cell_type": "code",
   "execution_count": 77,
   "metadata": {
    "vscode": {
     "languageId": "r"
    }
   },
   "outputs": [
    {
     "name": "stdout",
     "output_type": "stream",
     "text": [
      "[1] \"Results for 80-20 Split:\"\n"
     ]
    },
    {
     "name": "stdout",
     "output_type": "stream",
     "text": [
      "[1] \"CART Model:\"\n",
      "n= 1609 \n",
      "\n",
      "node), split, n, loss, yval, (yprob)\n",
      "      * denotes terminal node\n",
      "\n",
      " 1) root 1609 635 0 (0.60534493 0.39465507)  \n",
      "   2) Sulfate>=260.7468 1548 590 0 (0.61886305 0.38113695)  \n",
      "     4) Sulfate< 363.3467 1178 412 0 (0.65025467 0.34974533)  \n",
      "       8) ph< 5.608885 172  31 0 (0.81976744 0.18023256) *\n",
      "       9) ph>=5.608885 1006 381 0 (0.62127237 0.37872763)  \n",
      "        18) Sulfate>=296.1368 840 294 0 (0.65000000 0.35000000)  \n",
      "          36) Hardness>=164.2208 753 247 0 (0.67197875 0.32802125) *\n",
      "          37) Hardness< 164.2208 87  40 1 (0.45977011 0.54022989)  \n",
      "            74) Sulfate>=347.912 13   1 0 (0.92307692 0.07692308) *\n",
      "            75) Sulfate< 347.912 74  28 1 (0.37837838 0.62162162) *\n",
      "        19) Sulfate< 296.1368 166  79 1 (0.47590361 0.52409639)  \n",
      "          38) Solids< 19369.7 62  20 0 (0.67741935 0.32258065) *\n",
      "          39) Solids>=19369.7 104  37 1 (0.35576923 0.64423077)  \n",
      "            78) Hardness>=204.7087 47  20 0 (0.57446809 0.42553191) *\n",
      "            79) Hardness< 204.7087 57  10 1 (0.17543860 0.82456140) *\n",
      "     5) Sulfate>=363.3467 370 178 0 (0.51891892 0.48108108)  \n",
      "      10) ph>=7.740419 110  20 0 (0.81818182 0.18181818) *\n",
      "      11) ph< 7.740419 260 102 1 (0.39230769 0.60769231)  \n",
      "        22) Solids>=28102.5 49  18 0 (0.63265306 0.36734694) *\n",
      "        23) Solids< 28102.5 211  71 1 (0.33649289 0.66350711) *\n",
      "   3) Sulfate< 260.7468 61  16 1 (0.26229508 0.73770492) *\n",
      "[1] \"Plot of the CART Model:\"\n",
      "[1] \"Training Accuracy: 0.700435052827843\"\n",
      "[1] \"Testing Accuracy: 0.624378109452736\"\n",
      "[1] \"Confusion Matrix:\"\n",
      "   test_predictions\n",
      "      0   1\n",
      "  0 188  38\n",
      "  1 113  63\n",
      "[1] \"Testing Dataset:\"\n",
      "[1] \"Accuracy: 62.44%\"\n",
      "[1] \"Sensitivity: 35.8%\"\n",
      "[1] \"Specificity: 83.19%\"\n",
      "[1] \"PPV: 62.38%\"\n",
      "[1] \"NPV: 62.46%\"\n",
      "[1] \"Training Dataset:\"\n",
      "[1] \"Accuracy: 70.04%\"\n",
      "[1] \"Sensitivity: 43.78%\"\n",
      "[1] \"Specificity: 87.17%\"\n",
      "[1] \"PPV: 68.98%\"\n",
      "[1] \"NPV: 70.4%\"\n"
     ]
    },
    {
     "data": {
      "image/png": "[encoded data removed]",
      "text/plain": [
       "plot without title"
      ]
     },
     "metadata": {
      "image/png": {
       "height": 420,
       "width": 420
      }
     },
     "output_type": "display_data"
    },
    {
     "name": "stdout",
     "output_type": "stream",
     "text": [
      "[1] \"AUC: 0.615559633950121\"\n"
     ]
    },
    {
     "data": {
      "image/png": "[encoded data removed]",
      "text/plain": [
       "Plot with title \"ROC Curve\""
      ]
     },
     "metadata": {
      "image/png": {
       "height": 420,
       "width": 420
      }
     },
     "output_type": "display_data"
    }
   ],
   "source": [
    "# Train and evaluate CART model with 80-20 split\n",
    "print(\"Results for 80-20 Split:\")\n",
    "train_and_evaluate_CART(train_data_80, test_data_80)"
   ]
  },
  {
   "cell_type": "code",
   "execution_count": 76,
   "metadata": {
    "vscode": {
     "languageId": "r"
    }
   },
   "outputs": [
    {
     "name": "stdout",
     "output_type": "stream",
     "text": [
      "[1] \"Results for 50-50 Split:\"\n"
     ]
    },
    {
     "name": "stdout",
     "output_type": "stream",
     "text": [
      "[1] \"CART Model:\"\n",
      "n= 1006 \n",
      "\n",
      "node), split, n, loss, yval, (yprob)\n",
      "      * denotes terminal node\n",
      "\n",
      " 1) root 1006 393 0 (0.6093439 0.3906561)  \n",
      "   2) Sulfate>=264.169 962 360 0 (0.6257796 0.3742204)  \n",
      "     4) Sulfate< 373.869 821 287 0 (0.6504263 0.3495737)  \n",
      "       8) Conductivity>=426.4658 400 117 0 (0.7075000 0.2925000)  \n",
      "        16) Hardness>=158.9537 359  94 0 (0.7381616 0.2618384)  \n",
      "          32) Solids< 34258.29 338  81 0 (0.7603550 0.2396450) *\n",
      "          33) Solids>=34258.29 21   8 1 (0.3809524 0.6190476)  \n",
      "            66) ph< 6.562323 8   2 0 (0.7500000 0.2500000) *\n",
      "            67) ph>=6.562323 13   2 1 (0.1538462 0.8461538) *\n",
      "        17) Hardness< 158.9537 41  18 1 (0.4390244 0.5609756)  \n",
      "          34) Chloramines< 7.833074 22   8 0 (0.6363636 0.3636364) *\n",
      "          35) Chloramines>=7.833074 19   4 1 (0.2105263 0.7894737) *\n",
      "       9) Conductivity< 426.4658 421 170 0 (0.5961995 0.4038005)  \n",
      "        18) Chloramines< 10.18707 411 161 0 (0.6082725 0.3917275) *\n",
      "        19) Chloramines>=10.18707 10   1 1 (0.1000000 0.9000000) *\n",
      "     5) Sulfate>=373.869 141  68 1 (0.4822695 0.5177305)  \n",
      "      10) ph>=7.380125 55  11 0 (0.8000000 0.2000000) *\n",
      "      11) ph< 7.380125 86  24 1 (0.2790698 0.7209302)  \n",
      "        22) Solids>=34821.43 8   1 0 (0.8750000 0.1250000) *\n",
      "        23) Solids< 34821.43 78  17 1 (0.2179487 0.7820513) *\n",
      "   3) Sulfate< 264.169 44  11 1 (0.2500000 0.7500000)  \n",
      "     6) ph< 5.778855 7   1 0 (0.8571429 0.1428571) *\n",
      "     7) ph>=5.778855 37   5 1 (0.1351351 0.8648649) *\n",
      "[1] \"Plot of the CART Model:\"\n",
      "[1] \"Training Accuracy: 0.707753479125249\"\n",
      "[1] \"Testing Accuracy: 0.612935323383085\"\n",
      "[1] \"Confusion Matrix:\"\n",
      "   test_predictions\n",
      "      0   1\n",
      "  0 515  72\n",
      "  1 317 101\n",
      "[1] \"Testing Dataset:\"\n",
      "[1] \"Accuracy: 61.29%\"\n",
      "[1] \"Sensitivity: 24.16%\"\n",
      "[1] \"Specificity: 87.73%\"\n",
      "[1] \"PPV: 58.38%\"\n",
      "[1] \"NPV: 61.9%\"\n",
      "[1] \"Training Dataset:\"\n",
      "[1] \"Accuracy: 70.78%\"\n",
      "[1] \"Sensitivity: 32.57%\"\n",
      "[1] \"Specificity: 95.27%\"\n",
      "[1] \"PPV: 81.53%\"\n",
      "[1] \"NPV: 68.79%\"\n"
     ]
    },
    {
     "data": {
      "image/png": "[encoded data removed]",
      "text/plain": [
       "plot without title"
      ]
     },
     "metadata": {
      "image/png": {
       "height": 420,
       "width": 420
      }
     },
     "output_type": "display_data"
    },
    {
     "name": "stdout",
     "output_type": "stream",
     "text": [
      "[1] \"AUC: 0.541902708606734\"\n"
     ]
    },
    {
     "data": {
      "image/png": "[encoded data removed]",
      "text/plain": [
       "Plot with title \"ROC Curve\""
      ]
     },
     "metadata": {
      "image/png": {
       "height": 420,
       "width": 420
      }
     },
     "output_type": "display_data"
    }
   ],
   "source": [
    "# Train and evaluate CART model with 50-50 split\n",
    "print(\"Results for 50-50 Split:\")\n",
    "train_and_evaluate_CART(train_data_50, test_data_50)"
   ]
  }
 ],
 "metadata": {
  "kernelspec": {
   "display_name": "R",
   "language": "R",
   "name": "ir"
  },
  "language_info": {
   "codemirror_mode": "r",
   "file_extension": ".r",
   "mimetype": "text/x-r-source",
   "name": "R",
   "pygments_lexer": "r",
   "version": "4.3.2"
  }
 },
 "nbformat": 4,
 "nbformat_minor": 2
}
